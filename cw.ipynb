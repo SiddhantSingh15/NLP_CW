{
 "cells": [
  {
   "cell_type": "code",
   "execution_count": 1,
   "metadata": {},
   "outputs": [
    {
     "name": "stdout",
     "output_type": "stream",
     "text": [
      "Available kernels:\n",
      "  python3    /vol/bitbucket/ss5120/nlp_env/share/jupyter/kernels/python3\n"
     ]
    }
   ],
   "source": [
    "!jupyter kernelspec list"
   ]
  },
  {
   "cell_type": "code",
   "execution_count": 2,
   "metadata": {},
   "outputs": [],
   "source": [
    "USERNAME = 'ss5120'\n",
    "content_path = f'/vol/bitbucket/{USERNAME}/NLP_CW/'\n",
    "data_path = f'/vol/bitbucket/{USERNAME}/NLP_CW/data/'"
   ]
  },
  {
   "cell_type": "code",
   "execution_count": 3,
   "metadata": {},
   "outputs": [
    {
     "name": "stdout",
     "output_type": "stream",
     "text": [
      "Fri Feb 23 10:54:02 2024       \n",
      "+---------------------------------------------------------------------------------------+\n",
      "| NVIDIA-SMI 535.146.02             Driver Version: 535.146.02   CUDA Version: 12.2     |\n",
      "|-----------------------------------------+----------------------+----------------------+\n",
      "| GPU  Name                 Persistence-M | Bus-Id        Disp.A | Volatile Uncorr. ECC |\n",
      "| Fan  Temp   Perf          Pwr:Usage/Cap |         Memory-Usage | GPU-Util  Compute M. |\n",
      "|                                         |                      |               MIG M. |\n",
      "|=========================================+======================+======================|\n"
     ]
    },
    {
     "name": "stdout",
     "output_type": "stream",
     "text": [
      "|   0  NVIDIA GeForce RTX 4080        Off | 00000000:2D:00.0  On |                  N/A |\n",
      "| 31%   38C    P2              38W / 320W |  14613MiB / 16376MiB |      0%      Default |\n",
      "|                                         |                      |                  N/A |\n",
      "+-----------------------------------------+----------------------+----------------------+\n",
      "                                                                                         \n",
      "+---------------------------------------------------------------------------------------+\n",
      "| Processes:                                                                            |\n",
      "|  GPU   GI   CI        PID   Type   Process name                            GPU Memory |\n",
      "|        ID   ID                                                             Usage      |\n",
      "|=======================================================================================|\n",
      "|    0   N/A  N/A   2462615      G   /usr/lib/xorg/Xorg                           88MiB |\n",
      "|    0   N/A  N/A   3147535      C   python                                    14514MiB |\n",
      "+---------------------------------------------------------------------------------------+\n"
     ]
    }
   ],
   "source": [
    "!nvidia-smi"
   ]
  },
  {
   "cell_type": "code",
   "execution_count": 4,
   "metadata": {},
   "outputs": [
    {
     "name": "stdout",
     "output_type": "stream",
     "text": [
      "Requirement already satisfied: simpletransformers in /vol/bitbucket/ss5120/nlp_env/lib/python3.10/site-packages (0.70.0)\n",
      "Requirement already satisfied: regex in /vol/bitbucket/ss5120/nlp_env/lib/python3.10/site-packages (from simpletransformers) (2023.12.25)\n",
      "Requirement already satisfied: datasets in /vol/bitbucket/ss5120/nlp_env/lib/python3.10/site-packages (from simpletransformers) (2.17.1)\n",
      "Requirement already satisfied: requests in /vol/bitbucket/ss5120/nlp_env/lib/python3.10/site-packages (from simpletransformers) (2.31.0)\n",
      "Requirement already satisfied: sentencepiece in /vol/bitbucket/ss5120/nlp_env/lib/python3.10/site-packages (from simpletransformers) (0.2.0)\n",
      "Requirement already satisfied: tensorboardx in /vol/bitbucket/ss5120/nlp_env/lib/python3.10/site-packages (from simpletransformers) (2.6.2.2)\n",
      "Requirement already satisfied: tqdm>=4.47.0 in /vol/bitbucket/ss5120/nlp_env/lib/python3.10/site-packages (from simpletransformers) (4.66.2)\n",
      "Requirement already satisfied: seqeval in /vol/bitbucket/ss5120/nlp_env/lib/python3.10/site-packages (from simpletransformers) (1.2.2)\n",
      "Requirement already satisfied: wandb>=0.10.32 in /vol/bitbucket/ss5120/nlp_env/lib/python3.10/site-packages (from simpletransformers) (0.16.3)\n",
      "Requirement already satisfied: scipy in /vol/bitbucket/ss5120/nlp_env/lib/python3.10/site-packages (from simpletransformers) (1.12.0)\n",
      "Requirement already satisfied: numpy in /vol/bitbucket/ss5120/nlp_env/lib/python3.10/site-packages (from simpletransformers) (1.26.4)\n",
      "Requirement already satisfied: transformers>=4.31.0 in /vol/bitbucket/ss5120/nlp_env/lib/python3.10/site-packages (from simpletransformers) (4.38.1)\n",
      "Requirement already satisfied: tensorboard in /vol/bitbucket/ss5120/nlp_env/lib/python3.10/site-packages (from simpletransformers) (2.16.2)\n",
      "Requirement already satisfied: streamlit in /vol/bitbucket/ss5120/nlp_env/lib/python3.10/site-packages (from simpletransformers) (1.31.1)\n",
      "Requirement already satisfied: pandas in /vol/bitbucket/ss5120/nlp_env/lib/python3.10/site-packages (from simpletransformers) (2.2.0)\n",
      "Requirement already satisfied: tokenizers in /vol/bitbucket/ss5120/nlp_env/lib/python3.10/site-packages (from simpletransformers) (0.15.2)\n",
      "Requirement already satisfied: scikit-learn in /vol/bitbucket/ss5120/nlp_env/lib/python3.10/site-packages (from simpletransformers) (1.4.1.post1)\n",
      "Requirement already satisfied: filelock in /vol/bitbucket/ss5120/nlp_env/lib/python3.10/site-packages (from transformers>=4.31.0->simpletransformers) (3.13.1)\n",
      "Requirement already satisfied: safetensors>=0.4.1 in /vol/bitbucket/ss5120/nlp_env/lib/python3.10/site-packages (from transformers>=4.31.0->simpletransformers) (0.4.2)\n",
      "Requirement already satisfied: packaging>=20.0 in /vol/bitbucket/ss5120/nlp_env/lib/python3.10/site-packages (from transformers>=4.31.0->simpletransformers) (23.2)\n",
      "Requirement already satisfied: huggingface-hub<1.0,>=0.19.3 in /vol/bitbucket/ss5120/nlp_env/lib/python3.10/site-packages (from transformers>=4.31.0->simpletransformers) (0.20.3)\n",
      "Requirement already satisfied: pyyaml>=5.1 in /vol/bitbucket/ss5120/nlp_env/lib/python3.10/site-packages (from transformers>=4.31.0->simpletransformers) (6.0.1)\n",
      "Requirement already satisfied: psutil>=5.0.0 in /vol/bitbucket/ss5120/nlp_env/lib/python3.10/site-packages (from wandb>=0.10.32->simpletransformers) (5.9.8)\n",
      "Requirement already satisfied: setproctitle in /vol/bitbucket/ss5120/nlp_env/lib/python3.10/site-packages (from wandb>=0.10.32->simpletransformers) (1.3.3)\n",
      "Requirement already satisfied: sentry-sdk>=1.0.0 in /vol/bitbucket/ss5120/nlp_env/lib/python3.10/site-packages (from wandb>=0.10.32->simpletransformers) (1.40.5)\n",
      "Requirement already satisfied: GitPython!=3.1.29,>=1.0.0 in /vol/bitbucket/ss5120/nlp_env/lib/python3.10/site-packages (from wandb>=0.10.32->simpletransformers) (3.1.42)\n",
      "Requirement already satisfied: protobuf!=4.21.0,<5,>=3.19.0 in /vol/bitbucket/ss5120/nlp_env/lib/python3.10/site-packages (from wandb>=0.10.32->simpletransformers) (4.25.3)\n",
      "Requirement already satisfied: docker-pycreds>=0.4.0 in /vol/bitbucket/ss5120/nlp_env/lib/python3.10/site-packages (from wandb>=0.10.32->simpletransformers) (0.4.0)\n",
      "Requirement already satisfied: appdirs>=1.4.3 in /vol/bitbucket/ss5120/nlp_env/lib/python3.10/site-packages (from wandb>=0.10.32->simpletransformers) (1.4.4)\n",
      "Requirement already satisfied: Click!=8.0.0,>=7.1 in /vol/bitbucket/ss5120/nlp_env/lib/python3.10/site-packages (from wandb>=0.10.32->simpletransformers) (8.1.7)\n",
      "Requirement already satisfied: setuptools in /vol/bitbucket/ss5120/nlp_env/lib/python3.10/site-packages (from wandb>=0.10.32->simpletransformers) (59.6.0)\n",
      "Requirement already satisfied: certifi>=2017.4.17 in /vol/bitbucket/ss5120/nlp_env/lib/python3.10/site-packages (from requests->simpletransformers) (2024.2.2)\n",
      "Requirement already satisfied: charset-normalizer<4,>=2 in /vol/bitbucket/ss5120/nlp_env/lib/python3.10/site-packages (from requests->simpletransformers) (3.3.2)\n",
      "Requirement already satisfied: urllib3<3,>=1.21.1 in /vol/bitbucket/ss5120/nlp_env/lib/python3.10/site-packages (from requests->simpletransformers) (2.2.1)\n",
      "Requirement already satisfied: idna<4,>=2.5 in /vol/bitbucket/ss5120/nlp_env/lib/python3.10/site-packages (from requests->simpletransformers) (3.6)\n",
      "Requirement already satisfied: pyarrow>=12.0.0 in /vol/bitbucket/ss5120/nlp_env/lib/python3.10/site-packages (from datasets->simpletransformers) (15.0.0)\n",
      "Requirement already satisfied: multiprocess in /vol/bitbucket/ss5120/nlp_env/lib/python3.10/site-packages (from datasets->simpletransformers) (0.70.16)\n",
      "Requirement already satisfied: aiohttp in /vol/bitbucket/ss5120/nlp_env/lib/python3.10/site-packages (from datasets->simpletransformers) (3.9.3)\n",
      "Requirement already satisfied: pyarrow-hotfix in /vol/bitbucket/ss5120/nlp_env/lib/python3.10/site-packages (from datasets->simpletransformers) (0.6)\n",
      "Requirement already satisfied: xxhash in /vol/bitbucket/ss5120/nlp_env/lib/python3.10/site-packages (from datasets->simpletransformers) (3.4.1)\n",
      "Requirement already satisfied: fsspec[http]<=2023.10.0,>=2023.1.0 in /vol/bitbucket/ss5120/nlp_env/lib/python3.10/site-packages (from datasets->simpletransformers) (2023.10.0)\n",
      "Requirement already satisfied: dill<0.3.9,>=0.3.0 in /vol/bitbucket/ss5120/nlp_env/lib/python3.10/site-packages (from datasets->simpletransformers) (0.3.8)\n",
      "Requirement already satisfied: python-dateutil>=2.8.2 in /vol/bitbucket/ss5120/nlp_env/lib/python3.10/site-packages (from pandas->simpletransformers) (2.8.2)\n",
      "Requirement already satisfied: tzdata>=2022.7 in /vol/bitbucket/ss5120/nlp_env/lib/python3.10/site-packages (from pandas->simpletransformers) (2024.1)\n",
      "Requirement already satisfied: pytz>=2020.1 in /vol/bitbucket/ss5120/nlp_env/lib/python3.10/site-packages (from pandas->simpletransformers) (2024.1)\n",
      "Requirement already satisfied: threadpoolctl>=2.0.0 in /vol/bitbucket/ss5120/nlp_env/lib/python3.10/site-packages (from scikit-learn->simpletransformers) (3.3.0)\n",
      "Requirement already satisfied: joblib>=1.2.0 in /vol/bitbucket/ss5120/nlp_env/lib/python3.10/site-packages (from scikit-learn->simpletransformers) (1.3.2)\n",
      "Requirement already satisfied: tzlocal<6,>=1.1 in /vol/bitbucket/ss5120/nlp_env/lib/python3.10/site-packages (from streamlit->simpletransformers) (5.2)\n",
      "Requirement already satisfied: pydeck<1,>=0.8.0b4 in /vol/bitbucket/ss5120/nlp_env/lib/python3.10/site-packages (from streamlit->simpletransformers) (0.8.1b0)\n",
      "Requirement already satisfied: tenacity<9,>=8.1.0 in /vol/bitbucket/ss5120/nlp_env/lib/python3.10/site-packages (from streamlit->simpletransformers) (8.2.3)\n",
      "Requirement already satisfied: watchdog>=2.1.5 in /vol/bitbucket/ss5120/nlp_env/lib/python3.10/site-packages (from streamlit->simpletransformers) (4.0.0)\n",
      "Requirement already satisfied: toml<2,>=0.10.1 in /vol/bitbucket/ss5120/nlp_env/lib/python3.10/site-packages (from streamlit->simpletransformers) (0.10.2)\n",
      "Requirement already satisfied: typing-extensions<5,>=4.3.0 in /vol/bitbucket/ss5120/nlp_env/lib/python3.10/site-packages (from streamlit->simpletransformers) (4.9.0)\n",
      "Requirement already satisfied: rich<14,>=10.14.0 in /vol/bitbucket/ss5120/nlp_env/lib/python3.10/site-packages (from streamlit->simpletransformers) (13.7.0)\n",
      "Requirement already satisfied: altair<6,>=4.0 in /vol/bitbucket/ss5120/nlp_env/lib/python3.10/site-packages (from streamlit->simpletransformers) (5.2.0)\n",
      "Requirement already satisfied: validators<1,>=0.2 in /vol/bitbucket/ss5120/nlp_env/lib/python3.10/site-packages (from streamlit->simpletransformers) (0.22.0)\n",
      "Requirement already satisfied: blinker<2,>=1.0.0 in /vol/bitbucket/ss5120/nlp_env/lib/python3.10/site-packages (from streamlit->simpletransformers) (1.7.0)\n",
      "Requirement already satisfied: importlib-metadata<8,>=1.4 in /vol/bitbucket/ss5120/nlp_env/lib/python3.10/site-packages (from streamlit->simpletransformers) (7.0.1)\n",
      "Requirement already satisfied: pillow<11,>=7.1.0 in /vol/bitbucket/ss5120/nlp_env/lib/python3.10/site-packages (from streamlit->simpletransformers) (10.2.0)\n",
      "Requirement already satisfied: cachetools<6,>=4.0 in /vol/bitbucket/ss5120/nlp_env/lib/python3.10/site-packages (from streamlit->simpletransformers) (5.3.2)\n",
      "Requirement already satisfied: tornado<7,>=6.0.3 in /vol/bitbucket/ss5120/nlp_env/lib/python3.10/site-packages (from streamlit->simpletransformers) (6.4)\n",
      "Requirement already satisfied: werkzeug>=1.0.1 in /vol/bitbucket/ss5120/nlp_env/lib/python3.10/site-packages (from tensorboard->simpletransformers) (3.0.1)\n",
      "Requirement already satisfied: six>1.9 in /vol/bitbucket/ss5120/nlp_env/lib/python3.10/site-packages (from tensorboard->simpletransformers) (1.16.0)\n",
      "Requirement already satisfied: grpcio>=1.48.2 in /vol/bitbucket/ss5120/nlp_env/lib/python3.10/site-packages (from tensorboard->simpletransformers) (1.62.0)\n",
      "Requirement already satisfied: absl-py>=0.4 in /vol/bitbucket/ss5120/nlp_env/lib/python3.10/site-packages (from tensorboard->simpletransformers) (2.1.0)\n",
      "Requirement already satisfied: tensorboard-data-server<0.8.0,>=0.7.0 in /vol/bitbucket/ss5120/nlp_env/lib/python3.10/site-packages (from tensorboard->simpletransformers) (0.7.2)\n",
      "Requirement already satisfied: markdown>=2.6.8 in /vol/bitbucket/ss5120/nlp_env/lib/python3.10/site-packages (from tensorboard->simpletransformers) (3.5.2)\n",
      "Requirement already satisfied: jsonschema>=3.0 in /vol/bitbucket/ss5120/nlp_env/lib/python3.10/site-packages (from altair<6,>=4.0->streamlit->simpletransformers) (4.21.1)\n",
      "Requirement already satisfied: toolz in /vol/bitbucket/ss5120/nlp_env/lib/python3.10/site-packages (from altair<6,>=4.0->streamlit->simpletransformers) (0.12.1)\n",
      "Requirement already satisfied: jinja2 in /vol/bitbucket/ss5120/nlp_env/lib/python3.10/site-packages (from altair<6,>=4.0->streamlit->simpletransformers) (3.1.3)\n",
      "Requirement already satisfied: frozenlist>=1.1.1 in /vol/bitbucket/ss5120/nlp_env/lib/python3.10/site-packages (from aiohttp->datasets->simpletransformers) (1.4.1)\n",
      "Requirement already satisfied: attrs>=17.3.0 in /vol/bitbucket/ss5120/nlp_env/lib/python3.10/site-packages (from aiohttp->datasets->simpletransformers) (23.2.0)\n",
      "Requirement already satisfied: yarl<2.0,>=1.0 in /vol/bitbucket/ss5120/nlp_env/lib/python3.10/site-packages (from aiohttp->datasets->simpletransformers) (1.9.4)\n",
      "Requirement already satisfied: aiosignal>=1.1.2 in /vol/bitbucket/ss5120/nlp_env/lib/python3.10/site-packages (from aiohttp->datasets->simpletransformers) (1.3.1)\n",
      "Requirement already satisfied: async-timeout<5.0,>=4.0 in /vol/bitbucket/ss5120/nlp_env/lib/python3.10/site-packages (from aiohttp->datasets->simpletransformers) (4.0.3)\n",
      "Requirement already satisfied: multidict<7.0,>=4.5 in /vol/bitbucket/ss5120/nlp_env/lib/python3.10/site-packages (from aiohttp->datasets->simpletransformers) (6.0.5)\n",
      "Requirement already satisfied: gitdb<5,>=4.0.1 in /vol/bitbucket/ss5120/nlp_env/lib/python3.10/site-packages (from GitPython!=3.1.29,>=1.0.0->wandb>=0.10.32->simpletransformers) (4.0.11)\n",
      "Requirement already satisfied: zipp>=0.5 in /vol/bitbucket/ss5120/nlp_env/lib/python3.10/site-packages (from importlib-metadata<8,>=1.4->streamlit->simpletransformers) (3.17.0)\n",
      "Requirement already satisfied: markdown-it-py>=2.2.0 in /vol/bitbucket/ss5120/nlp_env/lib/python3.10/site-packages (from rich<14,>=10.14.0->streamlit->simpletransformers) (3.0.0)\n",
      "Requirement already satisfied: pygments<3.0.0,>=2.13.0 in /vol/bitbucket/ss5120/nlp_env/lib/python3.10/site-packages (from rich<14,>=10.14.0->streamlit->simpletransformers) (2.17.2)\n",
      "Requirement already satisfied: MarkupSafe>=2.1.1 in /vol/bitbucket/ss5120/nlp_env/lib/python3.10/site-packages (from werkzeug>=1.0.1->tensorboard->simpletransformers) (2.1.5)\n",
      "Requirement already satisfied: smmap<6,>=3.0.1 in /vol/bitbucket/ss5120/nlp_env/lib/python3.10/site-packages (from gitdb<5,>=4.0.1->GitPython!=3.1.29,>=1.0.0->wandb>=0.10.32->simpletransformers) (5.0.1)\n",
      "Requirement already satisfied: referencing>=0.28.4 in /vol/bitbucket/ss5120/nlp_env/lib/python3.10/site-packages (from jsonschema>=3.0->altair<6,>=4.0->streamlit->simpletransformers) (0.33.0)\n",
      "Requirement already satisfied: rpds-py>=0.7.1 in /vol/bitbucket/ss5120/nlp_env/lib/python3.10/site-packages (from jsonschema>=3.0->altair<6,>=4.0->streamlit->simpletransformers) (0.18.0)\n",
      "Requirement already satisfied: jsonschema-specifications>=2023.03.6 in /vol/bitbucket/ss5120/nlp_env/lib/python3.10/site-packages (from jsonschema>=3.0->altair<6,>=4.0->streamlit->simpletransformers) (2023.12.1)\n",
      "Requirement already satisfied: mdurl~=0.1 in /vol/bitbucket/ss5120/nlp_env/lib/python3.10/site-packages (from markdown-it-py>=2.2.0->rich<14,>=10.14.0->streamlit->simpletransformers) (0.1.2)\n",
      "Requirement already satisfied: tensorboardx in /vol/bitbucket/ss5120/nlp_env/lib/python3.10/site-packages (2.6.2.2)\n",
      "Requirement already satisfied: protobuf>=3.20 in /vol/bitbucket/ss5120/nlp_env/lib/python3.10/site-packages (from tensorboardx) (4.25.3)\n",
      "Requirement already satisfied: packaging in /vol/bitbucket/ss5120/nlp_env/lib/python3.10/site-packages (from tensorboardx) (23.2)\n",
      "Requirement already satisfied: numpy in /vol/bitbucket/ss5120/nlp_env/lib/python3.10/site-packages (from tensorboardx) (1.26.4)\n",
      "Collecting sklearn\n",
      "  Using cached sklearn-0.0.post12.tar.gz (2.6 kB)\n",
      "  Preparing metadata (setup.py) ... \u001b[?25lerror\n",
      "  \u001b[1;31merror\u001b[0m: \u001b[1msubprocess-exited-with-error\u001b[0m\n",
      "  \n",
      "  \u001b[31m×\u001b[0m \u001b[32mpython setup.py egg_info\u001b[0m did not run successfully.\n",
      "  \u001b[31m│\u001b[0m exit code: \u001b[1;36m1\u001b[0m\n",
      "  \u001b[31m╰─>\u001b[0m \u001b[31m[15 lines of output]\u001b[0m\n",
      "  \u001b[31m   \u001b[0m The 'sklearn' PyPI package is deprecated, use 'scikit-learn'\n",
      "  \u001b[31m   \u001b[0m rather than 'sklearn' for pip commands.\n",
      "  \u001b[31m   \u001b[0m \n",
      "  \u001b[31m   \u001b[0m Here is how to fix this error in the main use cases:\n",
      "  \u001b[31m   \u001b[0m - use 'pip install scikit-learn' rather than 'pip install sklearn'\n",
      "  \u001b[31m   \u001b[0m - replace 'sklearn' by 'scikit-learn' in your pip requirements files\n",
      "  \u001b[31m   \u001b[0m   (requirements.txt, setup.py, setup.cfg, Pipfile, etc ...)\n",
      "  \u001b[31m   \u001b[0m - if the 'sklearn' package is used by one of your dependencies,\n",
      "  \u001b[31m   \u001b[0m   it would be great if you take some time to track which package uses\n",
      "  \u001b[31m   \u001b[0m   'sklearn' instead of 'scikit-learn' and report it to their issue tracker\n",
      "  \u001b[31m   \u001b[0m - as a last resort, set the environment variable\n",
      "  \u001b[31m   \u001b[0m   SKLEARN_ALLOW_DEPRECATED_SKLEARN_PACKAGE_INSTALL=True to avoid this error\n",
      "  \u001b[31m   \u001b[0m \n",
      "  \u001b[31m   \u001b[0m More information is available at\n",
      "  \u001b[31m   \u001b[0m https://github.com/scikit-learn/sklearn-pypi-package\n",
      "  \u001b[31m   \u001b[0m \u001b[31m[end of output]\u001b[0m\n",
      "  \n",
      "  \u001b[1;35mnote\u001b[0m: This error originates from a subprocess, and is likely not a problem with pip.\n",
      "\u001b[?25h\u001b[1;31merror\u001b[0m: \u001b[1mmetadata-generation-failed\u001b[0m\n",
      "\n",
      "\u001b[31m×\u001b[0m Encountered error while generating package metadata.\n",
      "\u001b[31m╰─>\u001b[0m See above for output.\n",
      "\n",
      "\u001b[1;35mnote\u001b[0m: This is an issue with the package mentioned above, not pip.\n",
      "\u001b[1;36mhint\u001b[0m: See above for details.\n",
      "Requirement already satisfied: torch in /vol/bitbucket/ss5120/nlp_env/lib/python3.10/site-packages (2.2.1)\n",
      "Requirement already satisfied: nvidia-cuda-nvrtc-cu12==12.1.105 in /vol/bitbucket/ss5120/nlp_env/lib/python3.10/site-packages (from torch) (12.1.105)\n",
      "Requirement already satisfied: nvidia-nccl-cu12==2.19.3 in /vol/bitbucket/ss5120/nlp_env/lib/python3.10/site-packages (from torch) (2.19.3)\n",
      "Requirement already satisfied: nvidia-cublas-cu12==12.1.3.1 in /vol/bitbucket/ss5120/nlp_env/lib/python3.10/site-packages (from torch) (12.1.3.1)\n",
      "Requirement already satisfied: nvidia-cuda-runtime-cu12==12.1.105 in /vol/bitbucket/ss5120/nlp_env/lib/python3.10/site-packages (from torch) (12.1.105)\n",
      "Requirement already satisfied: nvidia-cufft-cu12==11.0.2.54 in /vol/bitbucket/ss5120/nlp_env/lib/python3.10/site-packages (from torch) (11.0.2.54)\n",
      "Requirement already satisfied: nvidia-cusolver-cu12==11.4.5.107 in /vol/bitbucket/ss5120/nlp_env/lib/python3.10/site-packages (from torch) (11.4.5.107)\n",
      "Requirement already satisfied: typing-extensions>=4.8.0 in /vol/bitbucket/ss5120/nlp_env/lib/python3.10/site-packages (from torch) (4.9.0)\n",
      "Requirement already satisfied: nvidia-curand-cu12==10.3.2.106 in /vol/bitbucket/ss5120/nlp_env/lib/python3.10/site-packages (from torch) (10.3.2.106)\n",
      "Requirement already satisfied: nvidia-cusparse-cu12==12.1.0.106 in /vol/bitbucket/ss5120/nlp_env/lib/python3.10/site-packages (from torch) (12.1.0.106)\n",
      "Requirement already satisfied: sympy in /vol/bitbucket/ss5120/nlp_env/lib/python3.10/site-packages (from torch) (1.12)\n",
      "Requirement already satisfied: triton==2.2.0 in /vol/bitbucket/ss5120/nlp_env/lib/python3.10/site-packages (from torch) (2.2.0)\n",
      "Requirement already satisfied: nvidia-cuda-cupti-cu12==12.1.105 in /vol/bitbucket/ss5120/nlp_env/lib/python3.10/site-packages (from torch) (12.1.105)\n",
      "Requirement already satisfied: networkx in /vol/bitbucket/ss5120/nlp_env/lib/python3.10/site-packages (from torch) (3.2.1)\n",
      "Requirement already satisfied: filelock in /vol/bitbucket/ss5120/nlp_env/lib/python3.10/site-packages (from torch) (3.13.1)\n",
      "Requirement already satisfied: fsspec in /vol/bitbucket/ss5120/nlp_env/lib/python3.10/site-packages (from torch) (2023.10.0)\n",
      "Requirement already satisfied: nvidia-nvtx-cu12==12.1.105 in /vol/bitbucket/ss5120/nlp_env/lib/python3.10/site-packages (from torch) (12.1.105)\n",
      "Requirement already satisfied: nvidia-cudnn-cu12==8.9.2.26 in /vol/bitbucket/ss5120/nlp_env/lib/python3.10/site-packages (from torch) (8.9.2.26)\n",
      "Requirement already satisfied: jinja2 in /vol/bitbucket/ss5120/nlp_env/lib/python3.10/site-packages (from torch) (3.1.3)\n",
      "Requirement already satisfied: nvidia-nvjitlink-cu12 in /vol/bitbucket/ss5120/nlp_env/lib/python3.10/site-packages (from nvidia-cusolver-cu12==11.4.5.107->torch) (12.3.101)\n",
      "Requirement already satisfied: MarkupSafe>=2.0 in /vol/bitbucket/ss5120/nlp_env/lib/python3.10/site-packages (from jinja2->torch) (2.1.5)\n",
      "Requirement already satisfied: mpmath>=0.19 in /vol/bitbucket/ss5120/nlp_env/lib/python3.10/site-packages (from sympy->torch) (1.3.0)\n"
     ]
    }
   ],
   "source": [
    "!pip install simpletransformers\n",
    "!pip install tensorboardx\n",
    "!pip install sklearn\n",
    "!pip install torch"
   ]
  },
  {
   "cell_type": "code",
   "execution_count": 5,
   "metadata": {},
   "outputs": [
    {
     "name": "stderr",
     "output_type": "stream",
     "text": [
      "/vol/bitbucket/ss5120/nlp_env/lib/python3.10/site-packages/tqdm/auto.py:21: TqdmWarning: IProgress not found. Please update jupyter and ipywidgets. See https://ipywidgets.readthedocs.io/en/stable/user_install.html\n",
      "  from .autonotebook import tqdm as notebook_tqdm\n"
     ]
    }
   ],
   "source": [
    "from simpletransformers.classification import (\n",
    "    ClassificationModel,\n",
    "    ClassificationArgs,\n",
    "    MultiLabelClassificationModel,\n",
    "    MultiLabelClassificationArgs,\n",
    ")\n",
    "from urllib import request\n",
    "import pandas as pd\n",
    "import logging\n",
    "import torch\n",
    "import numpy as np\n",
    "from collections import Counter\n",
    "from ast import literal_eval\n",
    "from sklearn.metrics import (\n",
    "    f1_score,\n",
    "    confusion_matrix,\n",
    "    precision_score,\n",
    "    recall_score,\n",
    "    accuracy_score,\n",
    ")\n",
    "from sklearn.utils import shuffle"
   ]
  },
  {
   "cell_type": "code",
   "execution_count": 6,
   "metadata": {},
   "outputs": [
    {
     "name": "stdout",
     "output_type": "stream",
     "text": [
      "There are 1 GPU(s) available.\n",
      "We will use the GPU: NVIDIA GeForce RTX 4080\n"
     ]
    }
   ],
   "source": [
    "# If there's a GPU available...\n",
    "if torch.cuda.is_available():\n",
    "\n",
    "    # Tell PyTorch to use the GPU.\n",
    "    device = torch.device(\"cuda\")\n",
    "\n",
    "    print(\"There are %d GPU(s) available.\" % torch.cuda.device_count())\n",
    "\n",
    "    print(\"We will use the GPU:\", torch.cuda.get_device_name(0))\n",
    "\n",
    "# If not...\n",
    "else:\n",
    "    print(\"No GPU available, using the CPU instead.\")\n",
    "    device = torch.device(\"cpu\")"
   ]
  },
  {
   "cell_type": "code",
   "execution_count": 15,
   "metadata": {},
   "outputs": [
    {
     "name": "stdout",
     "output_type": "stream",
     "text": [
      "Fetching https://raw.githubusercontent.com/Perez-AlmendrosC/dontpatronizeme/master/semeval-2022/dont_patronize_me.py\n"
     ]
    }
   ],
   "source": [
    "module_url = f\"https://raw.githubusercontent.com/Perez-AlmendrosC/dontpatronizeme/master/semeval-2022/dont_patronize_me.py\"\n",
    "module_name = module_url.split(\"/\")[-1]\n",
    "print(f\"Fetching {module_url}\")\n",
    "# with open(\"file_1.txt\") as f1, open(\"file_2.txt\") as f2\n",
    "with request.urlopen(module_url) as f, open(module_name, \"w\") as outf:\n",
    "    a = f.read()\n",
    "    outf.write(a.decode(\"utf-8\"))"
   ]
  },
  {
   "cell_type": "code",
   "execution_count": 19,
   "metadata": {},
   "outputs": [],
   "source": [
    "from dont_patronize_me import DontPatronizeMe"
   ]
  },
  {
   "cell_type": "code",
   "execution_count": 20,
   "metadata": {},
   "outputs": [],
   "source": [
    "dpm = DontPatronizeMe('.', data_path + 'task4_test.tsv')"
   ]
  },
  {
   "cell_type": "code",
   "execution_count": 21,
   "metadata": {},
   "outputs": [],
   "source": [
    "dpm.load_task1()"
   ]
  },
  {
   "cell_type": "code",
   "execution_count": 22,
   "metadata": {},
   "outputs": [],
   "source": [
    "train_labels = pd.read_csv(data_path + \"train_semeval_parids-labels.csv\")\n",
    "dev_labels = pd.read_csv(data_path + \"dev_semeval_parids-labels.csv\")"
   ]
  },
  {
   "cell_type": "code",
   "execution_count": 23,
   "metadata": {},
   "outputs": [
    {
     "data": {
      "text/html": [
       "<div>\n",
       "<style scoped>\n",
       "    .dataframe tbody tr th:only-of-type {\n",
       "        vertical-align: middle;\n",
       "    }\n",
       "\n",
       "    .dataframe tbody tr th {\n",
       "        vertical-align: top;\n",
       "    }\n",
       "\n",
       "    .dataframe thead th {\n",
       "        text-align: right;\n",
       "    }\n",
       "</style>\n",
       "<table border=\"1\" class=\"dataframe\">\n",
       "  <thead>\n",
       "    <tr style=\"text-align: right;\">\n",
       "      <th></th>\n",
       "      <th>par_id</th>\n",
       "      <th>label</th>\n",
       "    </tr>\n",
       "  </thead>\n",
       "  <tbody>\n",
       "    <tr>\n",
       "      <th>0</th>\n",
       "      <td>4341</td>\n",
       "      <td>[1, 0, 0, 1, 0, 0, 0]</td>\n",
       "    </tr>\n",
       "    <tr>\n",
       "      <th>1</th>\n",
       "      <td>4136</td>\n",
       "      <td>[0, 1, 0, 0, 0, 0, 0]</td>\n",
       "    </tr>\n",
       "    <tr>\n",
       "      <th>2</th>\n",
       "      <td>10352</td>\n",
       "      <td>[1, 0, 0, 0, 0, 1, 0]</td>\n",
       "    </tr>\n",
       "    <tr>\n",
       "      <th>3</th>\n",
       "      <td>8279</td>\n",
       "      <td>[0, 0, 0, 1, 0, 0, 0]</td>\n",
       "    </tr>\n",
       "    <tr>\n",
       "      <th>4</th>\n",
       "      <td>1164</td>\n",
       "      <td>[1, 0, 0, 1, 1, 1, 0]</td>\n",
       "    </tr>\n",
       "  </tbody>\n",
       "</table>\n",
       "</div>"
      ],
      "text/plain": [
       "   par_id                  label\n",
       "0    4341  [1, 0, 0, 1, 0, 0, 0]\n",
       "1    4136  [0, 1, 0, 0, 0, 0, 0]\n",
       "2   10352  [1, 0, 0, 0, 0, 1, 0]\n",
       "3    8279  [0, 0, 0, 1, 0, 0, 0]\n",
       "4    1164  [1, 0, 0, 1, 1, 1, 0]"
      ]
     },
     "execution_count": 23,
     "metadata": {},
     "output_type": "execute_result"
    }
   ],
   "source": [
    "train_labels.head()"
   ]
  },
  {
   "cell_type": "code",
   "execution_count": 24,
   "metadata": {},
   "outputs": [],
   "source": [
    "train_labels.par_id = train_labels.par_id.astype(str)\n",
    "dev_labels.par_id = dev_labels.par_id.astype(str)"
   ]
  },
  {
   "cell_type": "code",
   "execution_count": 26,
   "metadata": {},
   "outputs": [
    {
     "data": {
      "text/plain": [
       "0        4341\n",
       "1        4136\n",
       "2       10352\n",
       "3        8279\n",
       "4        1164\n",
       "        ...  \n",
       "8370     8380\n",
       "8371     8381\n",
       "8372     8382\n",
       "8373     8383\n",
       "8374     8384\n",
       "Name: par_id, Length: 8375, dtype: object"
      ]
     },
     "execution_count": 26,
     "metadata": {},
     "output_type": "execute_result"
    }
   ],
   "source": [
    "train_labels.par_id"
   ]
  },
  {
   "cell_type": "code",
   "execution_count": 27,
   "metadata": {},
   "outputs": [
    {
     "data": {
      "text/plain": [
       "0        4046\n",
       "1        1279\n",
       "2        8330\n",
       "3        4063\n",
       "4        4089\n",
       "        ...  \n",
       "2089    10462\n",
       "2090    10463\n",
       "2091    10464\n",
       "2092    10465\n",
       "2093    10466\n",
       "Name: par_id, Length: 2094, dtype: object"
      ]
     },
     "execution_count": 27,
     "metadata": {},
     "output_type": "execute_result"
    }
   ],
   "source": [
    "dev_labels.par_id"
   ]
  },
  {
   "cell_type": "code",
   "execution_count": 28,
   "metadata": {},
   "outputs": [],
   "source": [
    "train_set = []\n",
    "\n",
    "for i in range(len(train_labels)):\n",
    "    par_id = train_labels.par_id[i]\n",
    "    sentence = dpm.train_task1_df.loc[\n",
    "        dpm.train_task1_df.par_id == par_id\n",
    "    ].text.values[0]\n",
    "    label = dpm.train_task1_df.loc[\n",
    "        dpm.train_task1_df.par_id == par_id\n",
    "    ].label.values[0]\n",
    "    train_set.append({\"par_id\": par_id, \"sentence\": sentence, \"label\": label})"
   ]
  },
  {
   "cell_type": "code",
   "execution_count": 29,
   "metadata": {},
   "outputs": [],
   "source": [
    "train_set = pd.DataFrame(train_set)"
   ]
  },
  {
   "cell_type": "code",
   "execution_count": 34,
   "metadata": {},
   "outputs": [
    {
     "name": "stdout",
     "output_type": "stream",
     "text": [
      "No. of PCL: 794\n",
      "No. of non-PCL: 7581\n"
     ]
    }
   ],
   "source": [
    "print('No. of PCL: ' + str(len(train_set[train_set.label==1])))\n",
    "print('No. of non-PCL: ' + str(len(train_set[train_set.label==0])))"
   ]
  },
  {
   "cell_type": "code",
   "execution_count": 35,
   "metadata": {},
   "outputs": [],
   "source": [
    "test_set = []\n",
    "\n",
    "for i in range(len(dev_labels)):\n",
    "    par_id = dev_labels.par_id[i]\n",
    "    sentence = dpm.train_task1_df.loc[\n",
    "        dpm.train_task1_df.par_id == par_id\n",
    "    ].text.values[0]\n",
    "    label = dpm.train_task1_df.loc[\n",
    "        dpm.train_task1_df.par_id == par_id\n",
    "    ].label.values[0]\n",
    "    test_set.append({\"par_id\": par_id, \"sentence\": sentence, \"label\": label})"
   ]
  },
  {
   "cell_type": "code",
   "execution_count": 36,
   "metadata": {},
   "outputs": [],
   "source": [
    "test_set = pd.DataFrame(test_set)"
   ]
  },
  {
   "cell_type": "code",
   "execution_count": 37,
   "metadata": {},
   "outputs": [
    {
     "name": "stdout",
     "output_type": "stream",
     "text": [
      "No. of PCL: 199\n",
      "No. of non-PCL: 1895\n"
     ]
    }
   ],
   "source": [
    "print('No. of PCL: ' + str(len(test_set[test_set.label==1])))\n",
    "print('No. of non-PCL: ' + str(len(test_set[test_set.label==0])))"
   ]
  },
  {
   "cell_type": "code",
   "execution_count": null,
   "metadata": {},
   "outputs": [],
   "source": []
  }
 ],
 "metadata": {
  "kernelspec": {
   "display_name": "nlp_env",
   "language": "python",
   "name": "python3"
  },
  "language_info": {
   "codemirror_mode": {
    "name": "ipython",
    "version": 3
   },
   "file_extension": ".py",
   "mimetype": "text/x-python",
   "name": "python",
   "nbconvert_exporter": "python",
   "pygments_lexer": "ipython3",
   "version": "3.10.12"
  }
 },
 "nbformat": 4,
 "nbformat_minor": 2
}
