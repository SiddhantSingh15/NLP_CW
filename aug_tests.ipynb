{
 "cells": [
  {
   "cell_type": "code",
   "execution_count": 1,
   "id": "c92f7dde-79ea-4e60-9424-fa057b6c294a",
   "metadata": {},
   "outputs": [
    {
     "name": "stdout",
     "output_type": "stream",
     "text": [
      "\u001b[33mWARNING: Ignoring invalid distribution -orch (/vol/bitbucket/tg1120/dlcw/lib/python3.10/site-packages)\u001b[0m\u001b[33m\n",
      "\u001b[0m\u001b[33mWARNING: Ignoring invalid distribution -orch (/vol/bitbucket/tg1120/dlcw/lib/python3.10/site-packages)\u001b[0m\u001b[33m\n",
      "\u001b[0mCollecting nlpaug==1.1.11\n",
      "  Using cached nlpaug-1.1.11-py3-none-any.whl (410 kB)\n",
      "Requirement already satisfied: gdown>=4.0.0 in /vol/bitbucket/tg1120/dlcw/lib/python3.10/site-packages (from nlpaug==1.1.11) (5.1.0)\n",
      "Requirement already satisfied: pandas>=1.2.0 in /vol/bitbucket/tg1120/dlcw/lib/python3.10/site-packages (from nlpaug==1.1.11) (2.2.0)\n",
      "Requirement already satisfied: requests>=2.22.0 in /vol/bitbucket/tg1120/dlcw/lib/python3.10/site-packages (from nlpaug==1.1.11) (2.31.0)\n",
      "Requirement already satisfied: numpy>=1.16.2 in /vol/bitbucket/tg1120/dlcw/lib/python3.10/site-packages (from nlpaug==1.1.11) (1.26.3)\n",
      "Requirement already satisfied: filelock in /vol/bitbucket/tg1120/dlcw/lib/python3.10/site-packages (from gdown>=4.0.0->nlpaug==1.1.11) (3.13.1)\n",
      "Requirement already satisfied: beautifulsoup4 in /vol/bitbucket/tg1120/dlcw/lib/python3.10/site-packages (from gdown>=4.0.0->nlpaug==1.1.11) (4.12.3)\n",
      "Requirement already satisfied: tqdm in /vol/bitbucket/tg1120/dlcw/lib/python3.10/site-packages (from gdown>=4.0.0->nlpaug==1.1.11) (4.66.1)\n",
      "Requirement already satisfied: python-dateutil>=2.8.2 in /vol/bitbucket/tg1120/dlcw/lib/python3.10/site-packages (from pandas>=1.2.0->nlpaug==1.1.11) (2.8.2)\n",
      "Requirement already satisfied: pytz>=2020.1 in /vol/bitbucket/tg1120/dlcw/lib/python3.10/site-packages (from pandas>=1.2.0->nlpaug==1.1.11) (2023.4)\n",
      "Requirement already satisfied: tzdata>=2022.7 in /vol/bitbucket/tg1120/dlcw/lib/python3.10/site-packages (from pandas>=1.2.0->nlpaug==1.1.11) (2023.4)\n",
      "Requirement already satisfied: idna<4,>=2.5 in /vol/bitbucket/tg1120/dlcw/lib/python3.10/site-packages (from requests>=2.22.0->nlpaug==1.1.11) (3.6)\n",
      "Requirement already satisfied: urllib3<3,>=1.21.1 in /vol/bitbucket/tg1120/dlcw/lib/python3.10/site-packages (from requests>=2.22.0->nlpaug==1.1.11) (2.2.0)\n",
      "Requirement already satisfied: charset-normalizer<4,>=2 in /vol/bitbucket/tg1120/dlcw/lib/python3.10/site-packages (from requests>=2.22.0->nlpaug==1.1.11) (3.3.2)\n",
      "Requirement already satisfied: certifi>=2017.4.17 in /vol/bitbucket/tg1120/dlcw/lib/python3.10/site-packages (from requests>=2.22.0->nlpaug==1.1.11) (2023.11.17)\n",
      "Requirement already satisfied: six>=1.5 in /vol/bitbucket/tg1120/dlcw/lib/python3.10/site-packages (from python-dateutil>=2.8.2->pandas>=1.2.0->nlpaug==1.1.11) (1.16.0)\n",
      "Requirement already satisfied: soupsieve>1.2 in /vol/bitbucket/tg1120/dlcw/lib/python3.10/site-packages (from beautifulsoup4->gdown>=4.0.0->nlpaug==1.1.11) (2.5)\n",
      "Requirement already satisfied: PySocks!=1.5.7,>=1.5.6 in /vol/bitbucket/tg1120/dlcw/lib/python3.10/site-packages (from requests>=2.22.0->nlpaug==1.1.11) (1.7.1)\n",
      "\u001b[33mWARNING: Ignoring invalid distribution -orch (/vol/bitbucket/tg1120/dlcw/lib/python3.10/site-packages)\u001b[0m\u001b[33m\n",
      "\u001b[0mInstalling collected packages: nlpaug\n",
      "\u001b[33mWARNING: Ignoring invalid distribution -orch (/vol/bitbucket/tg1120/dlcw/lib/python3.10/site-packages)\u001b[0m\u001b[33m\n",
      "\u001b[0mSuccessfully installed nlpaug-1.1.11\n",
      "\u001b[33mWARNING: Ignoring invalid distribution -orch (/vol/bitbucket/tg1120/dlcw/lib/python3.10/site-packages)\u001b[0m\u001b[33m\n",
      "\u001b[0m\u001b[33mWARNING: Ignoring invalid distribution -orch (/vol/bitbucket/tg1120/dlcw/lib/python3.10/site-packages)\u001b[0m\u001b[33m\n",
      "\u001b[0mCollecting nltk\n",
      "  Using cached nltk-3.8.1-py3-none-any.whl (1.5 MB)\n",
      "Requirement already satisfied: click in /vol/bitbucket/tg1120/dlcw/lib/python3.10/site-packages (from nltk) (8.1.7)\n",
      "Requirement already satisfied: regex>=2021.8.3 in /vol/bitbucket/tg1120/dlcw/lib/python3.10/site-packages (from nltk) (2023.12.25)\n",
      "Requirement already satisfied: tqdm in /vol/bitbucket/tg1120/dlcw/lib/python3.10/site-packages (from nltk) (4.66.1)\n",
      "Requirement already satisfied: joblib in /vol/bitbucket/tg1120/dlcw/lib/python3.10/site-packages (from nltk) (1.3.2)\n",
      "\u001b[33mWARNING: Ignoring invalid distribution -orch (/vol/bitbucket/tg1120/dlcw/lib/python3.10/site-packages)\u001b[0m\u001b[33m\n",
      "\u001b[0mInstalling collected packages: nltk\n",
      "\u001b[33mWARNING: Ignoring invalid distribution -orch (/vol/bitbucket/tg1120/dlcw/lib/python3.10/site-packages)\u001b[0m\u001b[33m\n",
      "\u001b[0mSuccessfully installed nltk-3.8.1\n",
      "\u001b[33mWARNING: Ignoring invalid distribution -orch (/vol/bitbucket/tg1120/dlcw/lib/python3.10/site-packages)\u001b[0m\u001b[33m\n",
      "\u001b[0m\u001b[33mWARNING: Ignoring invalid distribution -orch (/vol/bitbucket/tg1120/dlcw/lib/python3.10/site-packages)\u001b[0m\u001b[33m\n",
      "\u001b[0mCollecting transformers\n",
      "  Using cached transformers-4.38.2-py3-none-any.whl (8.5 MB)\n",
      "Requirement already satisfied: packaging>=20.0 in /vol/bitbucket/tg1120/dlcw/lib/python3.10/site-packages (from transformers) (23.2)\n",
      "Requirement already satisfied: huggingface-hub<1.0,>=0.19.3 in /vol/bitbucket/tg1120/dlcw/lib/python3.10/site-packages (from transformers) (0.21.3)\n",
      "Requirement already satisfied: pyyaml>=5.1 in /vol/bitbucket/tg1120/dlcw/lib/python3.10/site-packages (from transformers) (6.0.1)\n",
      "Requirement already satisfied: requests in /vol/bitbucket/tg1120/dlcw/lib/python3.10/site-packages (from transformers) (2.31.0)\n",
      "Requirement already satisfied: safetensors>=0.4.1 in /vol/bitbucket/tg1120/dlcw/lib/python3.10/site-packages (from transformers) (0.4.2)\n",
      "Requirement already satisfied: regex!=2019.12.17 in /vol/bitbucket/tg1120/dlcw/lib/python3.10/site-packages (from transformers) (2023.12.25)\n",
      "Requirement already satisfied: tqdm>=4.27 in /vol/bitbucket/tg1120/dlcw/lib/python3.10/site-packages (from transformers) (4.66.1)\n",
      "Requirement already satisfied: filelock in /vol/bitbucket/tg1120/dlcw/lib/python3.10/site-packages (from transformers) (3.13.1)\n",
      "Requirement already satisfied: numpy>=1.17 in /vol/bitbucket/tg1120/dlcw/lib/python3.10/site-packages (from transformers) (1.26.3)\n",
      "Requirement already satisfied: tokenizers<0.19,>=0.14 in /vol/bitbucket/tg1120/dlcw/lib/python3.10/site-packages (from transformers) (0.15.2)\n",
      "Requirement already satisfied: fsspec>=2023.5.0 in /vol/bitbucket/tg1120/dlcw/lib/python3.10/site-packages (from huggingface-hub<1.0,>=0.19.3->transformers) (2023.12.2)\n",
      "Requirement already satisfied: typing-extensions>=3.7.4.3 in /vol/bitbucket/tg1120/dlcw/lib/python3.10/site-packages (from huggingface-hub<1.0,>=0.19.3->transformers) (4.9.0)\n",
      "Requirement already satisfied: certifi>=2017.4.17 in /vol/bitbucket/tg1120/dlcw/lib/python3.10/site-packages (from requests->transformers) (2023.11.17)\n",
      "Requirement already satisfied: urllib3<3,>=1.21.1 in /vol/bitbucket/tg1120/dlcw/lib/python3.10/site-packages (from requests->transformers) (2.2.0)\n",
      "Requirement already satisfied: charset-normalizer<4,>=2 in /vol/bitbucket/tg1120/dlcw/lib/python3.10/site-packages (from requests->transformers) (3.3.2)\n",
      "Requirement already satisfied: idna<4,>=2.5 in /vol/bitbucket/tg1120/dlcw/lib/python3.10/site-packages (from requests->transformers) (3.6)\n",
      "\u001b[33mWARNING: Ignoring invalid distribution -orch (/vol/bitbucket/tg1120/dlcw/lib/python3.10/site-packages)\u001b[0m\u001b[33m\n",
      "\u001b[0mInstalling collected packages: transformers\n",
      "\u001b[33mWARNING: Ignoring invalid distribution -orch (/vol/bitbucket/tg1120/dlcw/lib/python3.10/site-packages)\u001b[0m\u001b[33m\n",
      "\u001b[0mSuccessfully installed transformers-4.38.2\n",
      "\u001b[33mWARNING: Ignoring invalid distribution -orch (/vol/bitbucket/tg1120/dlcw/lib/python3.10/site-packages)\u001b[0m\u001b[33m\n",
      "\u001b[0m\u001b[33mWARNING: Ignoring invalid distribution -orch (/vol/bitbucket/tg1120/dlcw/lib/python3.10/site-packages)\u001b[0m\u001b[33m\n",
      "\u001b[0mCollecting datasets\n",
      "  Using cached datasets-2.18.0-py3-none-any.whl (510 kB)\n",
      "Requirement already satisfied: filelock in /vol/bitbucket/tg1120/dlcw/lib/python3.10/site-packages (from datasets) (3.13.1)\n",
      "Requirement already satisfied: huggingface-hub>=0.19.4 in /vol/bitbucket/tg1120/dlcw/lib/python3.10/site-packages (from datasets) (0.21.3)\n",
      "Requirement already satisfied: packaging in /vol/bitbucket/tg1120/dlcw/lib/python3.10/site-packages (from datasets) (23.2)\n",
      "Requirement already satisfied: multiprocess in /vol/bitbucket/tg1120/dlcw/lib/python3.10/site-packages (from datasets) (0.70.16)\n",
      "Requirement already satisfied: pyyaml>=5.1 in /vol/bitbucket/tg1120/dlcw/lib/python3.10/site-packages (from datasets) (6.0.1)\n",
      "Requirement already satisfied: tqdm>=4.62.1 in /vol/bitbucket/tg1120/dlcw/lib/python3.10/site-packages (from datasets) (4.66.1)\n",
      "Requirement already satisfied: pandas in /vol/bitbucket/tg1120/dlcw/lib/python3.10/site-packages (from datasets) (2.2.0)\n",
      "Requirement already satisfied: fsspec[http]<=2024.2.0,>=2023.1.0 in /vol/bitbucket/tg1120/dlcw/lib/python3.10/site-packages (from datasets) (2023.12.2)\n",
      "Requirement already satisfied: aiohttp in /vol/bitbucket/tg1120/dlcw/lib/python3.10/site-packages (from datasets) (3.9.3)\n",
      "Requirement already satisfied: requests>=2.19.0 in /vol/bitbucket/tg1120/dlcw/lib/python3.10/site-packages (from datasets) (2.31.0)\n",
      "Requirement already satisfied: dill<0.3.9,>=0.3.0 in /vol/bitbucket/tg1120/dlcw/lib/python3.10/site-packages (from datasets) (0.3.8)\n",
      "Requirement already satisfied: xxhash in /vol/bitbucket/tg1120/dlcw/lib/python3.10/site-packages (from datasets) (3.4.1)\n",
      "Requirement already satisfied: pyarrow>=12.0.0 in /vol/bitbucket/tg1120/dlcw/lib/python3.10/site-packages (from datasets) (15.0.0)\n",
      "Requirement already satisfied: numpy>=1.17 in /vol/bitbucket/tg1120/dlcw/lib/python3.10/site-packages (from datasets) (1.26.3)\n",
      "Requirement already satisfied: pyarrow-hotfix in /vol/bitbucket/tg1120/dlcw/lib/python3.10/site-packages (from datasets) (0.6)\n",
      "Requirement already satisfied: attrs>=17.3.0 in /vol/bitbucket/tg1120/dlcw/lib/python3.10/site-packages (from aiohttp->datasets) (23.2.0)\n",
      "Requirement already satisfied: multidict<7.0,>=4.5 in /vol/bitbucket/tg1120/dlcw/lib/python3.10/site-packages (from aiohttp->datasets) (6.0.5)\n",
      "Requirement already satisfied: async-timeout<5.0,>=4.0 in /vol/bitbucket/tg1120/dlcw/lib/python3.10/site-packages (from aiohttp->datasets) (4.0.3)\n",
      "Requirement already satisfied: frozenlist>=1.1.1 in /vol/bitbucket/tg1120/dlcw/lib/python3.10/site-packages (from aiohttp->datasets) (1.4.1)\n",
      "Requirement already satisfied: yarl<2.0,>=1.0 in /vol/bitbucket/tg1120/dlcw/lib/python3.10/site-packages (from aiohttp->datasets) (1.9.4)\n",
      "Requirement already satisfied: aiosignal>=1.1.2 in /vol/bitbucket/tg1120/dlcw/lib/python3.10/site-packages (from aiohttp->datasets) (1.3.1)\n",
      "Requirement already satisfied: typing-extensions>=3.7.4.3 in /vol/bitbucket/tg1120/dlcw/lib/python3.10/site-packages (from huggingface-hub>=0.19.4->datasets) (4.9.0)\n",
      "Requirement already satisfied: certifi>=2017.4.17 in /vol/bitbucket/tg1120/dlcw/lib/python3.10/site-packages (from requests>=2.19.0->datasets) (2023.11.17)\n",
      "Requirement already satisfied: urllib3<3,>=1.21.1 in /vol/bitbucket/tg1120/dlcw/lib/python3.10/site-packages (from requests>=2.19.0->datasets) (2.2.0)\n",
      "Requirement already satisfied: idna<4,>=2.5 in /vol/bitbucket/tg1120/dlcw/lib/python3.10/site-packages (from requests>=2.19.0->datasets) (3.6)\n",
      "Requirement already satisfied: charset-normalizer<4,>=2 in /vol/bitbucket/tg1120/dlcw/lib/python3.10/site-packages (from requests>=2.19.0->datasets) (3.3.2)\n",
      "Requirement already satisfied: tzdata>=2022.7 in /vol/bitbucket/tg1120/dlcw/lib/python3.10/site-packages (from pandas->datasets) (2023.4)\n",
      "Requirement already satisfied: python-dateutil>=2.8.2 in /vol/bitbucket/tg1120/dlcw/lib/python3.10/site-packages (from pandas->datasets) (2.8.2)\n",
      "Requirement already satisfied: pytz>=2020.1 in /vol/bitbucket/tg1120/dlcw/lib/python3.10/site-packages (from pandas->datasets) (2023.4)\n",
      "Requirement already satisfied: six>=1.5 in /vol/bitbucket/tg1120/dlcw/lib/python3.10/site-packages (from python-dateutil>=2.8.2->pandas->datasets) (1.16.0)\n",
      "\u001b[33mWARNING: Ignoring invalid distribution -orch (/vol/bitbucket/tg1120/dlcw/lib/python3.10/site-packages)\u001b[0m\u001b[33m\n",
      "\u001b[0mInstalling collected packages: datasets\n",
      "\u001b[33mWARNING: Ignoring invalid distribution -orch (/vol/bitbucket/tg1120/dlcw/lib/python3.10/site-packages)\u001b[0m\u001b[33m\n",
      "\u001b[0mSuccessfully installed datasets-2.18.0\n",
      "\u001b[33mWARNING: Ignoring invalid distribution -orch (/vol/bitbucket/tg1120/dlcw/lib/python3.10/site-packages)\u001b[0m\u001b[33m\n",
      "\u001b[0m\u001b[33mWARNING: Ignoring invalid distribution -orch (/vol/bitbucket/tg1120/dlcw/lib/python3.10/site-packages)\u001b[0m\u001b[33m\n",
      "\u001b[0mCollecting wandb\n",
      "  Using cached wandb-0.16.3-py3-none-any.whl (2.2 MB)\n",
      "Requirement already satisfied: protobuf!=4.21.0,<5,>=3.19.0 in /vol/bitbucket/tg1120/dlcw/lib/python3.10/site-packages (from wandb) (4.25.3)\n",
      "Requirement already satisfied: PyYAML in /vol/bitbucket/tg1120/dlcw/lib/python3.10/site-packages (from wandb) (6.0.1)\n",
      "Requirement already satisfied: appdirs>=1.4.3 in /vol/bitbucket/tg1120/dlcw/lib/python3.10/site-packages (from wandb) (1.4.4)\n",
      "Requirement already satisfied: sentry-sdk>=1.0.0 in /vol/bitbucket/tg1120/dlcw/lib/python3.10/site-packages (from wandb) (1.40.6)\n",
      "Requirement already satisfied: Click!=8.0.0,>=7.1 in /vol/bitbucket/tg1120/dlcw/lib/python3.10/site-packages (from wandb) (8.1.7)\n",
      "Requirement already satisfied: GitPython!=3.1.29,>=1.0.0 in /vol/bitbucket/tg1120/dlcw/lib/python3.10/site-packages (from wandb) (3.1.42)\n",
      "Requirement already satisfied: requests<3,>=2.0.0 in /vol/bitbucket/tg1120/dlcw/lib/python3.10/site-packages (from wandb) (2.31.0)\n",
      "Requirement already satisfied: setuptools in /vol/bitbucket/tg1120/dlcw/lib/python3.10/site-packages (from wandb) (59.6.0)\n",
      "Requirement already satisfied: docker-pycreds>=0.4.0 in /vol/bitbucket/tg1120/dlcw/lib/python3.10/site-packages (from wandb) (0.4.0)\n",
      "Requirement already satisfied: psutil>=5.0.0 in /vol/bitbucket/tg1120/dlcw/lib/python3.10/site-packages (from wandb) (5.9.8)\n",
      "Requirement already satisfied: setproctitle in /vol/bitbucket/tg1120/dlcw/lib/python3.10/site-packages (from wandb) (1.3.3)\n",
      "Requirement already satisfied: six>=1.4.0 in /vol/bitbucket/tg1120/dlcw/lib/python3.10/site-packages (from docker-pycreds>=0.4.0->wandb) (1.16.0)\n",
      "Requirement already satisfied: gitdb<5,>=4.0.1 in /vol/bitbucket/tg1120/dlcw/lib/python3.10/site-packages (from GitPython!=3.1.29,>=1.0.0->wandb) (4.0.11)\n",
      "Requirement already satisfied: idna<4,>=2.5 in /vol/bitbucket/tg1120/dlcw/lib/python3.10/site-packages (from requests<3,>=2.0.0->wandb) (3.6)\n",
      "Requirement already satisfied: urllib3<3,>=1.21.1 in /vol/bitbucket/tg1120/dlcw/lib/python3.10/site-packages (from requests<3,>=2.0.0->wandb) (2.2.0)\n",
      "Requirement already satisfied: certifi>=2017.4.17 in /vol/bitbucket/tg1120/dlcw/lib/python3.10/site-packages (from requests<3,>=2.0.0->wandb) (2023.11.17)\n",
      "Requirement already satisfied: charset-normalizer<4,>=2 in /vol/bitbucket/tg1120/dlcw/lib/python3.10/site-packages (from requests<3,>=2.0.0->wandb) (3.3.2)\n",
      "Requirement already satisfied: smmap<6,>=3.0.1 in /vol/bitbucket/tg1120/dlcw/lib/python3.10/site-packages (from gitdb<5,>=4.0.1->GitPython!=3.1.29,>=1.0.0->wandb) (5.0.1)\n",
      "\u001b[33mWARNING: Ignoring invalid distribution -orch (/vol/bitbucket/tg1120/dlcw/lib/python3.10/site-packages)\u001b[0m\u001b[33m\n",
      "\u001b[0mInstalling collected packages: wandb\n",
      "\u001b[33mWARNING: Ignoring invalid distribution -orch (/vol/bitbucket/tg1120/dlcw/lib/python3.10/site-packages)\u001b[0m\u001b[33m\n",
      "\u001b[0mSuccessfully installed wandb-0.16.3\n",
      "\u001b[33mWARNING: Ignoring invalid distribution -orch (/vol/bitbucket/tg1120/dlcw/lib/python3.10/site-packages)\u001b[0m\u001b[33m\n",
      "\u001b[0m\u001b[33mWARNING: Ignoring invalid distribution -orch (/vol/bitbucket/tg1120/dlcw/lib/python3.10/site-packages)\u001b[0m\u001b[33m\n",
      "\u001b[0mCollecting accelerate==0.21.0\n",
      "  Using cached accelerate-0.21.0-py3-none-any.whl (244 kB)\n",
      "Requirement already satisfied: pyyaml in /vol/bitbucket/tg1120/dlcw/lib/python3.10/site-packages (from accelerate==0.21.0) (6.0.1)\n",
      "Requirement already satisfied: psutil in /vol/bitbucket/tg1120/dlcw/lib/python3.10/site-packages (from accelerate==0.21.0) (5.9.8)\n",
      "Requirement already satisfied: torch>=1.10.0 in /vol/bitbucket/tg1120/dlcw/lib/python3.10/site-packages (from accelerate==0.21.0) (2.0.1)\n",
      "Requirement already satisfied: numpy>=1.17 in /vol/bitbucket/tg1120/dlcw/lib/python3.10/site-packages (from accelerate==0.21.0) (1.26.3)\n",
      "Requirement already satisfied: packaging>=20.0 in /vol/bitbucket/tg1120/dlcw/lib/python3.10/site-packages (from accelerate==0.21.0) (23.2)\n",
      "Requirement already satisfied: nvidia-cuda-cupti-cu11==11.7.101 in /vol/bitbucket/tg1120/dlcw/lib/python3.10/site-packages (from torch>=1.10.0->accelerate==0.21.0) (11.7.101)\n",
      "Requirement already satisfied: networkx in /vol/bitbucket/tg1120/dlcw/lib/python3.10/site-packages (from torch>=1.10.0->accelerate==0.21.0) (3.2.1)\n",
      "Requirement already satisfied: nvidia-cublas-cu11==11.10.3.66 in /vol/bitbucket/tg1120/dlcw/lib/python3.10/site-packages (from torch>=1.10.0->accelerate==0.21.0) (11.10.3.66)\n",
      "Requirement already satisfied: triton==2.0.0 in /vol/bitbucket/tg1120/dlcw/lib/python3.10/site-packages (from torch>=1.10.0->accelerate==0.21.0) (2.0.0)\n",
      "Requirement already satisfied: filelock in /vol/bitbucket/tg1120/dlcw/lib/python3.10/site-packages (from torch>=1.10.0->accelerate==0.21.0) (3.13.1)\n",
      "Requirement already satisfied: nvidia-cufft-cu11==10.9.0.58 in /vol/bitbucket/tg1120/dlcw/lib/python3.10/site-packages (from torch>=1.10.0->accelerate==0.21.0) (10.9.0.58)\n",
      "Requirement already satisfied: typing-extensions in /vol/bitbucket/tg1120/dlcw/lib/python3.10/site-packages (from torch>=1.10.0->accelerate==0.21.0) (4.9.0)\n",
      "Requirement already satisfied: nvidia-cusolver-cu11==11.4.0.1 in /vol/bitbucket/tg1120/dlcw/lib/python3.10/site-packages (from torch>=1.10.0->accelerate==0.21.0) (11.4.0.1)\n",
      "Requirement already satisfied: nvidia-nccl-cu11==2.14.3 in /vol/bitbucket/tg1120/dlcw/lib/python3.10/site-packages (from torch>=1.10.0->accelerate==0.21.0) (2.14.3)\n",
      "Requirement already satisfied: sympy in /vol/bitbucket/tg1120/dlcw/lib/python3.10/site-packages (from torch>=1.10.0->accelerate==0.21.0) (1.12)\n",
      "Requirement already satisfied: nvidia-nvtx-cu11==11.7.91 in /vol/bitbucket/tg1120/dlcw/lib/python3.10/site-packages (from torch>=1.10.0->accelerate==0.21.0) (11.7.91)\n",
      "Requirement already satisfied: nvidia-cudnn-cu11==8.5.0.96 in /vol/bitbucket/tg1120/dlcw/lib/python3.10/site-packages (from torch>=1.10.0->accelerate==0.21.0) (8.5.0.96)\n",
      "Requirement already satisfied: nvidia-cuda-runtime-cu11==11.7.99 in /vol/bitbucket/tg1120/dlcw/lib/python3.10/site-packages (from torch>=1.10.0->accelerate==0.21.0) (11.7.99)\n",
      "Requirement already satisfied: nvidia-curand-cu11==10.2.10.91 in /vol/bitbucket/tg1120/dlcw/lib/python3.10/site-packages (from torch>=1.10.0->accelerate==0.21.0) (10.2.10.91)\n",
      "Requirement already satisfied: nvidia-cusparse-cu11==11.7.4.91 in /vol/bitbucket/tg1120/dlcw/lib/python3.10/site-packages (from torch>=1.10.0->accelerate==0.21.0) (11.7.4.91)\n",
      "Requirement already satisfied: nvidia-cuda-nvrtc-cu11==11.7.99 in /vol/bitbucket/tg1120/dlcw/lib/python3.10/site-packages (from torch>=1.10.0->accelerate==0.21.0) (11.7.99)\n",
      "Requirement already satisfied: jinja2 in /vol/bitbucket/tg1120/dlcw/lib/python3.10/site-packages (from torch>=1.10.0->accelerate==0.21.0) (3.1.3)\n",
      "Requirement already satisfied: setuptools in /vol/bitbucket/tg1120/dlcw/lib/python3.10/site-packages (from nvidia-cublas-cu11==11.10.3.66->torch>=1.10.0->accelerate==0.21.0) (59.6.0)\n",
      "Requirement already satisfied: wheel in /vol/bitbucket/tg1120/dlcw/lib/python3.10/site-packages (from nvidia-cublas-cu11==11.10.3.66->torch>=1.10.0->accelerate==0.21.0) (0.37.1)\n",
      "Requirement already satisfied: cmake in /vol/bitbucket/tg1120/dlcw/lib/python3.10/site-packages (from triton==2.0.0->torch>=1.10.0->accelerate==0.21.0) (3.28.3)\n",
      "Requirement already satisfied: lit in /vol/bitbucket/tg1120/dlcw/lib/python3.10/site-packages (from triton==2.0.0->torch>=1.10.0->accelerate==0.21.0) (17.0.6)\n",
      "Requirement already satisfied: MarkupSafe>=2.0 in /vol/bitbucket/tg1120/dlcw/lib/python3.10/site-packages (from jinja2->torch>=1.10.0->accelerate==0.21.0) (2.1.4)\n",
      "Requirement already satisfied: mpmath>=0.19 in /vol/bitbucket/tg1120/dlcw/lib/python3.10/site-packages (from sympy->torch>=1.10.0->accelerate==0.21.0) (1.3.0)\n",
      "\u001b[33mWARNING: Ignoring invalid distribution -orch (/vol/bitbucket/tg1120/dlcw/lib/python3.10/site-packages)\u001b[0m\u001b[33m\n",
      "\u001b[0mInstalling collected packages: accelerate\n",
      "\u001b[33mWARNING: Ignoring invalid distribution -orch (/vol/bitbucket/tg1120/dlcw/lib/python3.10/site-packages)\u001b[0m\u001b[33m\n",
      "\u001b[0mSuccessfully installed accelerate-0.21.0\n",
      "\u001b[33mWARNING: Ignoring invalid distribution -orch (/vol/bitbucket/tg1120/dlcw/lib/python3.10/site-packages)\u001b[0m\u001b[33m\n",
      "\u001b[0m\u001b[33mWARNING: Ignoring invalid distribution -orch (/vol/bitbucket/tg1120/dlcw/lib/python3.10/site-packages)\u001b[0m\u001b[33m\n",
      "\u001b[0mRequirement already satisfied: transformers[torch] in /vol/bitbucket/tg1120/dlcw/lib/python3.10/site-packages (4.38.2)\n",
      "Requirement already satisfied: pyyaml>=5.1 in /vol/bitbucket/tg1120/dlcw/lib/python3.10/site-packages (from transformers[torch]) (6.0.1)\n",
      "Requirement already satisfied: huggingface-hub<1.0,>=0.19.3 in /vol/bitbucket/tg1120/dlcw/lib/python3.10/site-packages (from transformers[torch]) (0.21.3)\n",
      "Requirement already satisfied: numpy>=1.17 in /vol/bitbucket/tg1120/dlcw/lib/python3.10/site-packages (from transformers[torch]) (1.26.3)\n",
      "Requirement already satisfied: tqdm>=4.27 in /vol/bitbucket/tg1120/dlcw/lib/python3.10/site-packages (from transformers[torch]) (4.66.1)\n",
      "Requirement already satisfied: requests in /vol/bitbucket/tg1120/dlcw/lib/python3.10/site-packages (from transformers[torch]) (2.31.0)\n",
      "Requirement already satisfied: packaging>=20.0 in /vol/bitbucket/tg1120/dlcw/lib/python3.10/site-packages (from transformers[torch]) (23.2)\n",
      "Requirement already satisfied: safetensors>=0.4.1 in /vol/bitbucket/tg1120/dlcw/lib/python3.10/site-packages (from transformers[torch]) (0.4.2)\n",
      "Requirement already satisfied: tokenizers<0.19,>=0.14 in /vol/bitbucket/tg1120/dlcw/lib/python3.10/site-packages (from transformers[torch]) (0.15.2)\n",
      "Requirement already satisfied: filelock in /vol/bitbucket/tg1120/dlcw/lib/python3.10/site-packages (from transformers[torch]) (3.13.1)\n",
      "Requirement already satisfied: regex!=2019.12.17 in /vol/bitbucket/tg1120/dlcw/lib/python3.10/site-packages (from transformers[torch]) (2023.12.25)\n",
      "Requirement already satisfied: torch in /vol/bitbucket/tg1120/dlcw/lib/python3.10/site-packages (from transformers[torch]) (2.0.1)\n",
      "Requirement already satisfied: accelerate>=0.21.0 in /vol/bitbucket/tg1120/dlcw/lib/python3.10/site-packages (from transformers[torch]) (0.21.0)\n",
      "Requirement already satisfied: psutil in /vol/bitbucket/tg1120/dlcw/lib/python3.10/site-packages (from accelerate>=0.21.0->transformers[torch]) (5.9.8)\n",
      "Requirement already satisfied: typing-extensions>=3.7.4.3 in /vol/bitbucket/tg1120/dlcw/lib/python3.10/site-packages (from huggingface-hub<1.0,>=0.19.3->transformers[torch]) (4.9.0)\n",
      "Requirement already satisfied: fsspec>=2023.5.0 in /vol/bitbucket/tg1120/dlcw/lib/python3.10/site-packages (from huggingface-hub<1.0,>=0.19.3->transformers[torch]) (2023.12.2)\n",
      "Requirement already satisfied: nvidia-cufft-cu11==10.9.0.58 in /vol/bitbucket/tg1120/dlcw/lib/python3.10/site-packages (from torch->transformers[torch]) (10.9.0.58)\n",
      "Requirement already satisfied: jinja2 in /vol/bitbucket/tg1120/dlcw/lib/python3.10/site-packages (from torch->transformers[torch]) (3.1.3)\n",
      "Requirement already satisfied: nvidia-cudnn-cu11==8.5.0.96 in /vol/bitbucket/tg1120/dlcw/lib/python3.10/site-packages (from torch->transformers[torch]) (8.5.0.96)\n",
      "Requirement already satisfied: nvidia-cublas-cu11==11.10.3.66 in /vol/bitbucket/tg1120/dlcw/lib/python3.10/site-packages (from torch->transformers[torch]) (11.10.3.66)\n",
      "Requirement already satisfied: nvidia-nccl-cu11==2.14.3 in /vol/bitbucket/tg1120/dlcw/lib/python3.10/site-packages (from torch->transformers[torch]) (2.14.3)\n",
      "Requirement already satisfied: networkx in /vol/bitbucket/tg1120/dlcw/lib/python3.10/site-packages (from torch->transformers[torch]) (3.2.1)\n",
      "Requirement already satisfied: nvidia-cuda-cupti-cu11==11.7.101 in /vol/bitbucket/tg1120/dlcw/lib/python3.10/site-packages (from torch->transformers[torch]) (11.7.101)\n",
      "Requirement already satisfied: triton==2.0.0 in /vol/bitbucket/tg1120/dlcw/lib/python3.10/site-packages (from torch->transformers[torch]) (2.0.0)\n",
      "Requirement already satisfied: sympy in /vol/bitbucket/tg1120/dlcw/lib/python3.10/site-packages (from torch->transformers[torch]) (1.12)\n",
      "Requirement already satisfied: nvidia-cusparse-cu11==11.7.4.91 in /vol/bitbucket/tg1120/dlcw/lib/python3.10/site-packages (from torch->transformers[torch]) (11.7.4.91)\n",
      "Requirement already satisfied: nvidia-nvtx-cu11==11.7.91 in /vol/bitbucket/tg1120/dlcw/lib/python3.10/site-packages (from torch->transformers[torch]) (11.7.91)\n",
      "Requirement already satisfied: nvidia-curand-cu11==10.2.10.91 in /vol/bitbucket/tg1120/dlcw/lib/python3.10/site-packages (from torch->transformers[torch]) (10.2.10.91)\n",
      "Requirement already satisfied: nvidia-cusolver-cu11==11.4.0.1 in /vol/bitbucket/tg1120/dlcw/lib/python3.10/site-packages (from torch->transformers[torch]) (11.4.0.1)\n",
      "Requirement already satisfied: nvidia-cuda-nvrtc-cu11==11.7.99 in /vol/bitbucket/tg1120/dlcw/lib/python3.10/site-packages (from torch->transformers[torch]) (11.7.99)\n",
      "Requirement already satisfied: nvidia-cuda-runtime-cu11==11.7.99 in /vol/bitbucket/tg1120/dlcw/lib/python3.10/site-packages (from torch->transformers[torch]) (11.7.99)\n",
      "Requirement already satisfied: wheel in /vol/bitbucket/tg1120/dlcw/lib/python3.10/site-packages (from nvidia-cublas-cu11==11.10.3.66->torch->transformers[torch]) (0.37.1)\n",
      "Requirement already satisfied: setuptools in /vol/bitbucket/tg1120/dlcw/lib/python3.10/site-packages (from nvidia-cublas-cu11==11.10.3.66->torch->transformers[torch]) (59.6.0)\n",
      "Requirement already satisfied: cmake in /vol/bitbucket/tg1120/dlcw/lib/python3.10/site-packages (from triton==2.0.0->torch->transformers[torch]) (3.28.3)\n",
      "Requirement already satisfied: lit in /vol/bitbucket/tg1120/dlcw/lib/python3.10/site-packages (from triton==2.0.0->torch->transformers[torch]) (17.0.6)\n",
      "Requirement already satisfied: idna<4,>=2.5 in /vol/bitbucket/tg1120/dlcw/lib/python3.10/site-packages (from requests->transformers[torch]) (3.6)\n",
      "Requirement already satisfied: charset-normalizer<4,>=2 in /vol/bitbucket/tg1120/dlcw/lib/python3.10/site-packages (from requests->transformers[torch]) (3.3.2)\n",
      "Requirement already satisfied: certifi>=2017.4.17 in /vol/bitbucket/tg1120/dlcw/lib/python3.10/site-packages (from requests->transformers[torch]) (2023.11.17)\n",
      "Requirement already satisfied: urllib3<3,>=1.21.1 in /vol/bitbucket/tg1120/dlcw/lib/python3.10/site-packages (from requests->transformers[torch]) (2.2.0)\n",
      "Requirement already satisfied: MarkupSafe>=2.0 in /vol/bitbucket/tg1120/dlcw/lib/python3.10/site-packages (from jinja2->torch->transformers[torch]) (2.1.4)\n",
      "Requirement already satisfied: mpmath>=0.19 in /vol/bitbucket/tg1120/dlcw/lib/python3.10/site-packages (from sympy->torch->transformers[torch]) (1.3.0)\n",
      "\u001b[33mWARNING: Ignoring invalid distribution -orch (/vol/bitbucket/tg1120/dlcw/lib/python3.10/site-packages)\u001b[0m\u001b[33m\n",
      "\u001b[0m"
     ]
    }
   ],
   "source": [
    "!pip install nlpaug==1.1.11\n",
    "!pip install nltk\n",
    "!pip install transformers\n",
    "!pip install datasets\n",
    "!pip install wandb\n",
    "!pip install accelerate==0.21.0\n",
    "!pip install transformers[torch]"
   ]
  },
  {
   "cell_type": "code",
   "execution_count": 2,
   "id": "bd69ecdf-27c6-4240-961c-523c4f92049d",
   "metadata": {},
   "outputs": [
    {
     "name": "stderr",
     "output_type": "stream",
     "text": [
      "[nltk_data] Downloading package stopwords to\n",
      "[nltk_data]     /homes/tg1120/nltk_data...\n",
      "[nltk_data]   Package stopwords is already up-to-date!\n"
     ]
    }
   ],
   "source": [
    "from preproc import PreProcessor\n",
    "from bert_model import Model\n",
    "import nlpaug.augmenter.char as nac\n",
    "import nlpaug.augmenter.word as naw\n",
    "import nlpaug.augmenter.sentence as nas\n",
    "\n",
    "pp = PreProcessor()\n"
   ]
  },
  {
   "cell_type": "markdown",
   "id": "781e36ea-a619-4476-85f9-9cf6c0b27a96",
   "metadata": {},
   "source": [
    "## Random Word Augmentation"
   ]
  },
  {
   "cell_type": "markdown",
   "id": "f161c6f2-035d-499c-bdf0-be5ebe43bd81",
   "metadata": {},
   "source": [
    "### 1. crop"
   ]
  },
  {
   "cell_type": "code",
   "execution_count": 8,
   "id": "8435fd23-0f6d-4e44-b16d-bb9e2d7ce50b",
   "metadata": {
    "scrolled": true
   },
   "outputs": [
    {
     "name": "stdout",
     "output_type": "stream",
     "text": [
      "Data augmentation: rebalancing 4 times...\n",
      "    Iteration 0\n",
      "    Iteration 1\n",
      "    Iteration 2\n",
      "    Iteration 3\n",
      "par_id       object\n",
      "community    object\n",
      "text         object\n",
      "label         int64\n",
      "dtype: object\n",
      "text     object\n",
      "label     int64\n",
      "dtype: object\n"
     ]
    },
    {
     "name": "stderr",
     "output_type": "stream",
     "text": [
      "Some weights of RobertaForSequenceClassification were not initialized from the model checkpoint at roberta-base and are newly initialized: ['classifier.dense.bias', 'classifier.dense.weight', 'classifier.out_proj.bias', 'classifier.out_proj.weight']\n",
      "You should probably TRAIN this model on a down-stream task to be able to use it for predictions and inference.\n"
     ]
    },
    {
     "data": {
      "application/vnd.jupyter.widget-view+json": {
       "model_id": "141109d29b3640b7a7cad87b00928d88",
       "version_major": 2,
       "version_minor": 0
      },
      "text/plain": [
       "Map:   0%|          | 0/11551 [00:00<?, ? examples/s]"
      ]
     },
     "metadata": {},
     "output_type": "display_data"
    },
    {
     "data": {
      "application/vnd.jupyter.widget-view+json": {
       "model_id": "b2c28b9bfbb14ff8b9ad6295391c34a1",
       "version_major": 2,
       "version_minor": 0
      },
      "text/plain": [
       "Map:   0%|          | 0/2094 [00:00<?, ? examples/s]"
      ]
     },
     "metadata": {},
     "output_type": "display_data"
    },
    {
     "ename": "TypeError",
     "evalue": "Accelerator.__init__() got an unexpected keyword argument 'use_seedable_sampler'",
     "output_type": "error",
     "traceback": [
      "\u001b[0;31m---------------------------------------------------------------------------\u001b[0m",
      "\u001b[0;31mTypeError\u001b[0m                                 Traceback (most recent call last)",
      "Cell \u001b[0;32mIn[8], line 9\u001b[0m\n\u001b[1;32m      7\u001b[0m all_proc_train \u001b[38;5;241m=\u001b[39m all_proc_train[[\u001b[38;5;124m\"\u001b[39m\u001b[38;5;124mtext\u001b[39m\u001b[38;5;124m\"\u001b[39m,\u001b[38;5;124m\"\u001b[39m\u001b[38;5;124mlabel\u001b[39m\u001b[38;5;124m\"\u001b[39m]]\n\u001b[1;32m      8\u001b[0m all_proc_model \u001b[38;5;241m=\u001b[39m Model(\u001b[38;5;124m\"\u001b[39m\u001b[38;5;124mbaseline\u001b[39m\u001b[38;5;124m\"\u001b[39m)\n\u001b[0;32m----> 9\u001b[0m \u001b[43mall_proc_model\u001b[49m\u001b[38;5;241;43m.\u001b[39;49m\u001b[43mtrain\u001b[49m\u001b[43m(\u001b[49m\u001b[43mall_proc_train\u001b[49m\u001b[43m,\u001b[49m\u001b[43m \u001b[49m\u001b[43mpp\u001b[49m\u001b[38;5;241;43m.\u001b[39;49m\u001b[43mraw_dev\u001b[49m\u001b[43m)\u001b[49m\n",
      "File \u001b[0;32m/vol/bitbucket/tg1120/NLP_CW/bert_model.py:101\u001b[0m, in \u001b[0;36mModel.train\u001b[0;34m(self, train_df, dev_df)\u001b[0m\n\u001b[1;32m     97\u001b[0m tokenized_dev \u001b[38;5;241m=\u001b[39m dev_hf\u001b[38;5;241m.\u001b[39mmap(\u001b[38;5;28mself\u001b[39m\u001b[38;5;241m.\u001b[39mapply_tokenizer, batched\u001b[38;5;241m=\u001b[39m\u001b[38;5;28;01mTrue\u001b[39;00m)\n\u001b[1;32m     99\u001b[0m data_collator \u001b[38;5;241m=\u001b[39m DataCollatorWithPadding(tokenizer\u001b[38;5;241m=\u001b[39m\u001b[38;5;28mself\u001b[39m\u001b[38;5;241m.\u001b[39mtokenizer)\n\u001b[0;32m--> 101\u001b[0m \u001b[38;5;28mself\u001b[39m\u001b[38;5;241m.\u001b[39mtrainer \u001b[38;5;241m=\u001b[39m \u001b[43mTrainer\u001b[49m\u001b[43m(\u001b[49m\n\u001b[1;32m    102\u001b[0m \u001b[43m    \u001b[49m\u001b[43mmodel\u001b[49m\u001b[38;5;241;43m=\u001b[39;49m\u001b[38;5;28;43mself\u001b[39;49m\u001b[38;5;241;43m.\u001b[39;49m\u001b[43mmodel\u001b[49m\u001b[43m,\u001b[49m\n\u001b[1;32m    103\u001b[0m \u001b[43m    \u001b[49m\u001b[43margs\u001b[49m\u001b[38;5;241;43m=\u001b[39;49m\u001b[38;5;28;43mself\u001b[39;49m\u001b[38;5;241;43m.\u001b[39;49m\u001b[43mtraining_args\u001b[49m\u001b[43m,\u001b[49m\n\u001b[1;32m    104\u001b[0m \u001b[43m    \u001b[49m\u001b[43mtokenizer\u001b[49m\u001b[38;5;241;43m=\u001b[39;49m\u001b[38;5;28;43mself\u001b[39;49m\u001b[38;5;241;43m.\u001b[39;49m\u001b[43mtokenizer\u001b[49m\u001b[43m,\u001b[49m\n\u001b[1;32m    105\u001b[0m \u001b[43m    \u001b[49m\u001b[43mtrain_dataset\u001b[49m\u001b[38;5;241;43m=\u001b[39;49m\u001b[43mtokenized_train\u001b[49m\u001b[43m,\u001b[49m\n\u001b[1;32m    106\u001b[0m \u001b[43m    \u001b[49m\u001b[43meval_dataset\u001b[49m\u001b[38;5;241;43m=\u001b[39;49m\u001b[43mtokenized_dev\u001b[49m\u001b[43m,\u001b[49m\n\u001b[1;32m    107\u001b[0m \u001b[43m    \u001b[49m\u001b[38;5;66;43;03m# data_collator=data_collator,\u001b[39;49;00m\n\u001b[1;32m    108\u001b[0m \u001b[43m    \u001b[49m\u001b[43mcompute_metrics\u001b[49m\u001b[38;5;241;43m=\u001b[39;49m\u001b[38;5;28;43mself\u001b[39;49m\u001b[38;5;241;43m.\u001b[39;49m\u001b[43mcompute_metrics\u001b[49m\u001b[43m,\u001b[49m\n\u001b[1;32m    109\u001b[0m \u001b[43m\u001b[49m\u001b[43m)\u001b[49m\n\u001b[1;32m    111\u001b[0m \u001b[38;5;28mself\u001b[39m\u001b[38;5;241m.\u001b[39mtrainer\u001b[38;5;241m.\u001b[39mtrain()\n",
      "File \u001b[0;32m/vol/bitbucket/tg1120/dlcw/lib/python3.10/site-packages/transformers/trainer.py:367\u001b[0m, in \u001b[0;36mTrainer.__init__\u001b[0;34m(self, model, args, data_collator, train_dataset, eval_dataset, tokenizer, model_init, compute_metrics, callbacks, optimizers, preprocess_logits_for_metrics)\u001b[0m\n\u001b[1;32m    364\u001b[0m \u001b[38;5;28mself\u001b[39m\u001b[38;5;241m.\u001b[39mdeepspeed \u001b[38;5;241m=\u001b[39m \u001b[38;5;28;01mNone\u001b[39;00m\n\u001b[1;32m    365\u001b[0m \u001b[38;5;28mself\u001b[39m\u001b[38;5;241m.\u001b[39mis_in_train \u001b[38;5;241m=\u001b[39m \u001b[38;5;28;01mFalse\u001b[39;00m\n\u001b[0;32m--> 367\u001b[0m \u001b[38;5;28;43mself\u001b[39;49m\u001b[38;5;241;43m.\u001b[39;49m\u001b[43mcreate_accelerator_and_postprocess\u001b[49m\u001b[43m(\u001b[49m\u001b[43m)\u001b[49m\n\u001b[1;32m    369\u001b[0m \u001b[38;5;66;03m# memory metrics - must set up as early as possible\u001b[39;00m\n\u001b[1;32m    370\u001b[0m \u001b[38;5;28mself\u001b[39m\u001b[38;5;241m.\u001b[39m_memory_tracker \u001b[38;5;241m=\u001b[39m TrainerMemoryTracker(\u001b[38;5;28mself\u001b[39m\u001b[38;5;241m.\u001b[39margs\u001b[38;5;241m.\u001b[39mskip_memory_metrics)\n",
      "File \u001b[0;32m/vol/bitbucket/tg1120/dlcw/lib/python3.10/site-packages/transformers/trainer.py:4127\u001b[0m, in \u001b[0;36mTrainer.create_accelerator_and_postprocess\u001b[0;34m(self)\u001b[0m\n\u001b[1;32m   4122\u001b[0m     \u001b[38;5;28;01melif\u001b[39;00m \u001b[38;5;28misinstance\u001b[39m(accelerator_kwargs, \u001b[38;5;28mdict\u001b[39m):\n\u001b[1;32m   4123\u001b[0m         \u001b[38;5;66;03m# Some values may need to go through non-accelerate aligned defaults\u001b[39;00m\n\u001b[1;32m   4124\u001b[0m         \u001b[38;5;66;03m# and we need to run the `__post_init__` to set them\u001b[39;00m\n\u001b[1;32m   4125\u001b[0m         accelerator_kwargs \u001b[38;5;241m=\u001b[39m AcceleratorConfig(\u001b[38;5;241m*\u001b[39m\u001b[38;5;241m*\u001b[39maccelerator_kwargs)\u001b[38;5;241m.\u001b[39mto_dict()\n\u001b[0;32m-> 4127\u001b[0m \u001b[38;5;28mself\u001b[39m\u001b[38;5;241m.\u001b[39maccelerator \u001b[38;5;241m=\u001b[39m \u001b[43mAccelerator\u001b[49m\u001b[43m(\u001b[49m\n\u001b[1;32m   4128\u001b[0m \u001b[43m    \u001b[49m\u001b[43mdeepspeed_plugin\u001b[49m\u001b[38;5;241;43m=\u001b[39;49m\u001b[38;5;28;43mself\u001b[39;49m\u001b[38;5;241;43m.\u001b[39;49m\u001b[43margs\u001b[49m\u001b[38;5;241;43m.\u001b[39;49m\u001b[43mdeepspeed_plugin\u001b[49m\u001b[43m,\u001b[49m\n\u001b[1;32m   4129\u001b[0m \u001b[43m    \u001b[49m\u001b[43mgradient_accumulation_plugin\u001b[49m\u001b[38;5;241;43m=\u001b[39;49m\u001b[43mgradient_accumulation_plugin\u001b[49m\u001b[43m,\u001b[49m\n\u001b[1;32m   4130\u001b[0m \u001b[43m    \u001b[49m\u001b[38;5;241;43m*\u001b[39;49m\u001b[38;5;241;43m*\u001b[39;49m\u001b[43maccelerator_kwargs\u001b[49m\u001b[43m,\u001b[49m\n\u001b[1;32m   4131\u001b[0m \u001b[43m\u001b[49m\u001b[43m)\u001b[49m\n\u001b[1;32m   4132\u001b[0m \u001b[38;5;66;03m# some Trainer classes need to use `gather` instead of `gather_for_metrics`, thus we store a flag\u001b[39;00m\n\u001b[1;32m   4133\u001b[0m \u001b[38;5;28mself\u001b[39m\u001b[38;5;241m.\u001b[39mgather_function \u001b[38;5;241m=\u001b[39m \u001b[38;5;28mself\u001b[39m\u001b[38;5;241m.\u001b[39maccelerator\u001b[38;5;241m.\u001b[39mgather_for_metrics\n",
      "\u001b[0;31mTypeError\u001b[0m: Accelerator.__init__() got an unexpected keyword argument 'use_seedable_sampler'"
     ]
    }
   ],
   "source": [
    "aug = naw.RandomWordAug(action=\"crop\")\n",
    "random_word_aug_train = pp.aug_and_rebal(aug)\n",
    "pp.augmented = random_word_aug_train[[\"text\",\"label\"]]\n",
    "all_proc_train = pp.run_preprocess(white_func=pp.whitespace_norm, punc_func=pp.remove_punc, dig_func=pp.remove_digits)\n",
    "all_proc_train = all_proc_train[[\"text\",\"label\"]]\n",
    "all_proc_model = Model(\"baseline\")\n",
    "all_proc_model.train(all_proc_train, pp.raw_dev)"
   ]
  },
  {
   "cell_type": "code",
   "execution_count": null,
   "id": "77f55221-0862-4062-8a04-93e966478de8",
   "metadata": {},
   "outputs": [],
   "source": [
    "# Train metrics\n",
    "all_proc_model.evaluate_train(white_norm_train)"
   ]
  },
  {
   "cell_type": "code",
   "execution_count": null,
   "id": "1907b7a7-63ad-4cf1-8956-ec62026a6da2",
   "metadata": {},
   "outputs": [],
   "source": [
    "# Dev metrics\n",
    "all_proc_model.evaluate_dev()"
   ]
  },
  {
   "cell_type": "markdown",
   "id": "5fd58860-c28d-411d-a736-f65e598d0ee0",
   "metadata": {},
   "source": [
    "### 2. Swap"
   ]
  },
  {
   "cell_type": "code",
   "execution_count": null,
   "id": "20f60ab6-5a11-458e-9fd7-64ab56b71e27",
   "metadata": {},
   "outputs": [],
   "source": [
    "aug = naw.RandomWordAug(action=\"swap\")\n",
    "random_word_aug_train = pp.aug_and_rebal(aug)\n",
    "pp.augmented = random_word_aug_train[[\"text\",\"label\"]]\n",
    "all_proc_train = pp.run_preprocess(white_func=pp.whitespace_norm, punc_func=pp.remove_punc, dig_func=pp.remove_digits)\n",
    "all_proc_train = all_proc_train[[\"text\",\"label\"]]\n",
    "all_proc_model = Model(\"baseline\")\n",
    "all_proc_model.train(all_proc_train, pp.raw_dev)"
   ]
  },
  {
   "cell_type": "code",
   "execution_count": null,
   "id": "e8f6975f-d691-4a5a-b321-63f7c11ccff5",
   "metadata": {},
   "outputs": [],
   "source": [
    "# Train metrics\n",
    "all_proc_model.evaluate_train(white_norm_train)"
   ]
  },
  {
   "cell_type": "code",
   "execution_count": null,
   "id": "20090eab-29a4-4a07-aa0f-0bcd1d60ee3c",
   "metadata": {},
   "outputs": [],
   "source": [
    "# Dev metrics\n",
    "all_proc_model.evaluate_dev()"
   ]
  },
  {
   "cell_type": "markdown",
   "id": "7a52d4a9-6640-4e42-b366-693e7a2dae8b",
   "metadata": {},
   "source": [
    "## Synonym"
   ]
  },
  {
   "cell_type": "code",
   "execution_count": null,
   "id": "bc13ee12-98aa-4f1c-9591-5daf3116671d",
   "metadata": {},
   "outputs": [],
   "source": [
    "aug = naw.SynonymAug(aug_src='wordnet')\n",
    "synonym_word_aug_train = pp.aug_and_rebal(aug)\n",
    "pp.augmented = synonym_word_aug_train[[\"text\",\"label\"]]\n",
    "all_proc_train = pp.run_preprocess(white_func=pp.whitespace_norm, punc_func=pp.remove_punc, dig_func=pp.remove_digits)\n",
    "all_proc_train = all_proc_train[[\"text\",\"label\"]]\n",
    "all_proc_model = Model(\"baseline\")\n",
    "all_proc_model.train(all_proc_train, pp.raw_dev)"
   ]
  },
  {
   "cell_type": "code",
   "execution_count": null,
   "id": "6abd94f6-4a1e-457b-9393-4e57c8074559",
   "metadata": {},
   "outputs": [],
   "source": [
    "# Train metrics\n",
    "all_proc_model.evaluate_train(white_norm_train)"
   ]
  },
  {
   "cell_type": "code",
   "execution_count": null,
   "id": "d2921728-14b2-4648-82ff-d0967e1e24bc",
   "metadata": {},
   "outputs": [],
   "source": [
    "# Dev metrics\n",
    "all_proc_model.evaluate_dev()"
   ]
  },
  {
   "cell_type": "markdown",
   "id": "5fd0055c-d4ba-4b12-a4ee-a9c595d28203",
   "metadata": {},
   "source": [
    "## Contextual Word Augmentation"
   ]
  },
  {
   "cell_type": "markdown",
   "id": "f9c276ed-ddb4-46c8-82d7-2857ad425f7f",
   "metadata": {},
   "source": [
    "### Insert"
   ]
  },
  {
   "cell_type": "code",
   "execution_count": null,
   "id": "6d905e83-9ef3-436d-96a1-52bdd1d56078",
   "metadata": {},
   "outputs": [],
   "source": [
    "aug = naw.ContextualWordEmbsAug(model_path='bert-base-uncased', action=\"insert\")\n",
    "context_word_aug_train = pp.aug_and_rebal(aug)\n",
    "pp.augmented = context_word_aug_train[[\"text\",\"label\"]]\n",
    "all_proc_train = pp.run_preprocess(white_func=pp.whitespace_norm, punc_func=pp.remove_punc, dig_func=pp.remove_digits)\n",
    "all_proc_train = all_proc_train[[\"text\",\"label\"]]\n",
    "all_proc_model = Model(\"baseline\")\n",
    "all_proc_model.train(all_proc_train, pp.raw_dev)"
   ]
  },
  {
   "cell_type": "code",
   "execution_count": null,
   "id": "c7f36804-21af-43b5-8ad3-cc52a2df7d77",
   "metadata": {},
   "outputs": [],
   "source": [
    "# Train metrics\n",
    "all_proc_model.evaluate_train(white_norm_train)"
   ]
  },
  {
   "cell_type": "code",
   "execution_count": null,
   "id": "bb378621-90c3-4563-8a5d-4d021694202c",
   "metadata": {},
   "outputs": [],
   "source": [
    "# Dev metrics\n",
    "all_proc_model.evaluate_dev()"
   ]
  },
  {
   "cell_type": "markdown",
   "id": "3b27412e-5a99-4e35-a9dc-b808faf0c25e",
   "metadata": {},
   "source": [
    "### Substitute"
   ]
  },
  {
   "cell_type": "code",
   "execution_count": null,
   "id": "53c02a47-ff9a-471d-b7c0-3a68f6f43f42",
   "metadata": {},
   "outputs": [],
   "source": [
    "aug = naw.ContextualWordEmbsAug(model_path='bert-base-uncased', action=\"substitute\")\n",
    "context_word_aug_train = pp.aug_and_rebal(aug)\n",
    "pp.augmented = context_word_aug_train[[\"text\",\"label\"]]\n",
    "all_proc_train = pp.run_preprocess(white_func=pp.whitespace_norm, punc_func=pp.remove_punc, dig_func=pp.remove_digits)\n",
    "all_proc_train = all_proc_train[[\"text\",\"label\"]]\n",
    "all_proc_model = Model(\"baseline\")\n",
    "all_proc_model.train(all_proc_train, pp.raw_dev)"
   ]
  },
  {
   "cell_type": "code",
   "execution_count": null,
   "id": "775751e2-9bc8-4651-a0aa-8ab00e24ecb1",
   "metadata": {},
   "outputs": [],
   "source": [
    "# Train metrics\n",
    "all_proc_model.evaluate_train(white_norm_train)"
   ]
  },
  {
   "cell_type": "code",
   "execution_count": null,
   "id": "f98f2c9b-edfc-4b83-b8bd-a8cfbd485de2",
   "metadata": {},
   "outputs": [],
   "source": [
    "# Dev metrics\n",
    "all_proc_model.evaluate_dev()"
   ]
  },
  {
   "cell_type": "markdown",
   "id": "c3f5fda6-7fb4-420a-a689-1bb7d11f46e0",
   "metadata": {},
   "source": [
    "## Sentence Augmentation"
   ]
  },
  {
   "cell_type": "code",
   "execution_count": null,
   "id": "444466d4-fc65-49f7-8624-a60b63dab18e",
   "metadata": {},
   "outputs": [],
   "source": [
    "aug = nas.ContextualWordEmbsForSentenceAug(model_path='gpt2')\n",
    "sentence_aug_train = pp.aug_and_rebal(aug)\n",
    "pp.augmented = sentence_aug_train[[\"text\",\"label\"]]\n",
    "all_proc_train = pp.run_preprocess(white_func=pp.whitespace_norm, punc_func=pp.remove_punc, dig_func=pp.remove_digits)\n",
    "all_proc_train = all_proc_train[[\"text\",\"label\"]]\n",
    "all_proc_model = Model(\"baseline\")\n",
    "all_proc_model.train(all_proc_train, pp.raw_dev)"
   ]
  },
  {
   "cell_type": "code",
   "execution_count": null,
   "id": "cdadbd27-edba-44bd-b5c0-f7a7b2102f61",
   "metadata": {},
   "outputs": [],
   "source": [
    "# Train metrics\n",
    "all_proc_model.evaluate_train(white_norm_train)"
   ]
  },
  {
   "cell_type": "code",
   "execution_count": null,
   "id": "7f3c3016-1cdf-4564-b12c-950fc505bc78",
   "metadata": {},
   "outputs": [],
   "source": [
    "# Dev metrics\n",
    "all_proc_model.evaluate_dev()"
   ]
  },
  {
   "cell_type": "markdown",
   "id": "f2333ba8-e308-4c71-b9e3-d09e9f0c711d",
   "metadata": {},
   "source": [
    "## Back translation"
   ]
  },
  {
   "cell_type": "code",
   "execution_count": null,
   "id": "97352bab-7ec8-4294-b942-893cddd057f5",
   "metadata": {},
   "outputs": [],
   "source": [
    "aug = naw.BackTranslationAug()\n",
    "backtranslate_aug_train = pp.aug_and_rebal(aug)\n",
    "pp.augmented = backtranslate_aug_train[[\"text\",\"label\"]]\n",
    "all_proc_train = pp.run_preprocess(white_func=pp.whitespace_norm, punc_func=pp.remove_punc, dig_func=pp.remove_digits)\n",
    "all_proc_train = all_proc_train[[\"text\",\"label\"]]\n",
    "all_proc_model = Model(\"baseline\")\n",
    "all_proc_model.train(all_proc_train, pp.raw_dev)"
   ]
  },
  {
   "cell_type": "code",
   "execution_count": null,
   "id": "f6531a29-3a70-4774-afee-d46cf5a0e5cb",
   "metadata": {},
   "outputs": [],
   "source": [
    "# Train metrics\n",
    "all_proc_model.evaluate_train(white_norm_train)"
   ]
  },
  {
   "cell_type": "code",
   "execution_count": null,
   "id": "7af111d4-abb8-4102-820b-99ffbd33ab42",
   "metadata": {},
   "outputs": [],
   "source": [
    "# Dev metrics\n",
    "all_proc_model.evaluate_dev()"
   ]
  }
 ],
 "metadata": {
  "kernelspec": {
   "display_name": "Python 3 (ipykernel)",
   "language": "python",
   "name": "python3"
  },
  "language_info": {
   "codemirror_mode": {
    "name": "ipython",
    "version": 3
   },
   "file_extension": ".py",
   "mimetype": "text/x-python",
   "name": "python",
   "nbconvert_exporter": "python",
   "pygments_lexer": "ipython3",
   "version": "3.10.12"
  }
 },
 "nbformat": 4,
 "nbformat_minor": 5
}
